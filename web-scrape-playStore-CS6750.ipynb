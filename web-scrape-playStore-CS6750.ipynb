{
 "cells": [
  {
   "cell_type": "code",
   "execution_count": 21,
   "metadata": {},
   "outputs": [],
   "source": [
    "import numpy as np\n",
    "import pandas as pd\n",
    "from datetime import datetime\n",
    "import matplotlib.pyplot as plt\n",
    "import seaborn as sns\n",
    "\n",
    "import requests\n",
    "import urllib.request\n",
    "import time\n",
    "from bs4 import BeautifulSoup\n",
    "import json\n",
    "import sys\n",
    "from json import dumps, loads, JSONEncoder, JSONDecoder\n",
    "\n",
    "from sklearn.feature_extraction.text import TfidfVectorizer\n",
    "from sklearn.naive_bayes import MultinomialNB\n",
    "from sklearn.model_selection import train_test_split, learning_curve\n",
    "from sklearn.metrics import average_precision_score, accuracy_score, confusion_matrix, classification_report\n",
    "\n",
    "pd.set_option('display.max_colwidth', 300)"
   ]
  },
  {
   "cell_type": "raw",
   "metadata": {},
   "source": [
    "postParams ={'reviewType': 0, \n",
    "             'pageNum': 0,\n",
    "             'id': 'com.lazada.android',\n",
    "             'reviewSortOrder': 0,\n",
    "             'xhr': 1}\n",
    "# url = 'https://play.google.com/store/apps/details?id=com.lazada.android&showAllReviews=true' # % cat[0]\n",
    "url = 'https://play.google.com/store/getreviews'\n",
    "\n",
    "response = requests.post(url, data=postParams)\n",
    "\n",
    "soup = BeautifulSoup(response.content)\n",
    "soup.title\n",
    "\n",
    "# s_tag = soup.findAll('script')\n",
    "\n",
    "# art_links = list()\n",
    "# for i in range(len(a_tag)):\n",
    "#     if 'data-url' in str(a_tag[i]):\n",
    "# #         print(i, a_tag[i]['data-url'])  #['data-url']\n",
    "#         art_links.append(a_tag[i]['data-url'])\n",
    "        \n",
    "# art_links = list(set(art_links))\n",
    "# len(art_links)"
   ]
  },
  {
   "cell_type": "code",
   "execution_count": 31,
   "metadata": {},
   "outputs": [],
   "source": [
    "# https://github.com/mohamedali92/google-play-reviews-scraper/blob/master/google_play_reviews_scraper/app.py\n",
    "\n",
    "postParams ={'reviewType': 0, \n",
    "             'pageNum': 0,\n",
    "             'id': 'com.spotify.music',\n",
    "             'reviewSortOrder': 2, # 2: most helpful, 0: latest\n",
    "             'xhr': 1}\n",
    "\n",
    "url = 'https://play.google.com/store/getreviews'\n",
    "\n",
    "r = requests.post(url, data=postParams)\n",
    "postResults = r.content\n",
    "\n",
    "\n",
    "contentIdx = 0\n",
    "apiJsonStartIndex = 6\n",
    "htmlStartIndex = 2\n",
    "\n",
    "# Classes for parsing\n",
    "reviewBodyClass = \"single-review\"\n",
    "\n",
    "# Read in the API Request\n",
    "postResultsString = postResults\n",
    "\n",
    "# Attempt to parse result\n",
    "result = json.loads(postResultsString[apiJsonStartIndex:])[contentIdx][htmlStartIndex]\n",
    "\n",
    "htmlResult = BeautifulSoup(result, \"html.parser\")\n",
    "\n",
    "# parsedResults = [self.generateScrapedObject(reviewBody) for \\\n",
    "#                  reviewBody in htmlResult.find_all(class_=reviewBodyClass)]"
   ]
  },
  {
   "cell_type": "code",
   "execution_count": 32,
   "metadata": {},
   "outputs": [
    {
     "data": {
      "text/plain": [
       " <div class=\"single-review\" tabindex=\"0\"> <span> <span class=\"responsive-img-ldpi\"> <span class=\"responsive-img author-image\" style=\"background-image:url(https://lh3.googleusercontent.com/EGemoI2NTXmTsBVtJqk8jxF9rh8ApRWfsIMQSt2uE4OcpQqbFu7f7NbTK05lx80nuSijCz7sc3a277R67g=w48-h48-p)\"></span> </span> <span class=\"responsive-img-hdpi\"> <span class=\"responsive-img author-image\" style=\"background-image:url(https://lh3.googleusercontent.com/EGemoI2NTXmTsBVtJqk8jxF9rh8ApRWfsIMQSt2uE4OcpQqbFu7f7NbTK05lx80nuSijCz7sc3a277R67g=w96-h96-p)\"></span> </span> </span> <div class=\"review-header\" data-expand-target=\"\" data-reviewid=\"gp:AOqpTOFIE-1mfcsLZD46JUrDhYyiYgDoFeUV4O5hFzL_DjMWpCTlFQLz60aVSs6c6dszVkDkRAYhyYBxJAzhug\"> <div class=\"review-info\"> <span class=\"author-name\"> A Google User </span> <span class=\"review-date\">25 June 2019</span> <a class=\"reviews-permalink\" href=\"/store/apps/details?id=com.spotify.music&amp;reviewId=Z3A6QU9xcFRPRklFLTFtZmNzTFpENDZKVXJEaFl5aVlnRG9GZVVWNE81aEZ6TF9Eak1XcENUbEZRTHo2MGFWU3M2YzZkc3pWa0RrUkFZaHlZQnhKQXpodWc\" title=\"Link to this review\"></a> <div class=\"review-source\" style=\"display:none\"></div> <div class=\"review-info-star-rating\"> <div aria-label=\"Rated 1 stars out of five stars\" class=\"tiny-star star-rating-non-editable-container\"> <div class=\"current-rating\" jsname=\"jIIjq\" style=\"width:20%\"></div> </div> </div> </div> <div class=\"rate-review-wrapper\"> <button class=\"play-button icon-button small rate-review\" data-rating=\"SPAM\" title=\"Spam\"> <div class=\"icon spam-flag\"></div> </button> <button class=\"play-button icon-button small rate-review\" data-rating=\"HELPFUL\" title=\"Helpful\"> <div class=\"icon thumbs-up\"></div> </button> <button class=\"play-button icon-button small rate-review\" data-rating=\"UNHELPFUL\" title=\"Unhelpful\"> <div class=\"icon thumbs-down\"></div> </button> </div> </div> <div class=\"review-body with-review-wrapper\"> <span class=\"review-title\"></span> I originally only gave this one star because it kept crashing. Now I'm giving one star because it's absolutely awful. What on earth have you done to it, and why? Offline mode doesn't work properly, any single songs which I've downloaded aren't available, can't filter any more by downloaded artists... and that's just for starters. I pay £14.99 a month for my Family Premium for this, and I expect a damn sight better than what you're giving users at the moment. It's an utter mess of an app now. <div class=\"review-link\" style=\"display:none\"> <a class=\"id-no-nav play-button tiny\" href=\"#\" target=\"_blank\">Full Review</a> </div> </div> </div> <div class=\"single-review\" tabindex=\"0\"> <span> <span class=\"responsive-img-ldpi\"> <span class=\"responsive-img author-image\" style=\"background-image:url(https://lh3.googleusercontent.com/a-/AAuE7mAi9a2YlA7dPmGf5ruWsveoD_1Ad4Qr1LSKpjYa=w48-h48-p)\"></span> </span> <span class=\"responsive-img-hdpi\"> <span class=\"responsive-img author-image\" style=\"background-image:url(https://lh3.googleusercontent.com/a-/AAuE7mAi9a2YlA7dPmGf5ruWsveoD_1Ad4Qr1LSKpjYa=w96-h96-p)\"></span> </span> </span> <div class=\"review-header\" data-expand-target=\"\" data-reviewid=\"gp:AOqpTOGYnzfFpOzTQ6FepidurMg7c1OT6a-sRJS_ooIWPFqA9We1hrcVeKskzC-7wLmRr6SLUhZDGrOlaNWzfA\"> <div class=\"review-info\"> <span class=\"author-name\"> Josh Wade </span> <span class=\"review-date\">25 June 2019</span> <a class=\"reviews-permalink\" href=\"/store/apps/details?id=com.spotify.music&amp;reviewId=Z3A6QU9xcFRPR1luemZGcE96VFE2RmVwaWR1ck1nN2MxT1Q2YS1zUkpTX29vSVdQRnFBOVdlMWhyY1ZlS3NrekMtN3dMbVJyNlNMVWhaREdyT2xhTld6ZkE\" title=\"Link to this review\"></a> <div class=\"review-source\" style=\"display:none\"></div> <div class=\"review-info-star-rating\"> <div aria-label=\"Rated 1 stars out of five stars\" class=\"tiny-star star-rating-non-editable-container\"> <div class=\"current-rating\" jsname=\"jIIjq\" style=\"width:20%\"></div> </div> </div> </div> <div class=\"rate-review-wrapper\"> <button class=\"play-button icon-button small rate-review\" data-rating=\"SPAM\" title=\"Spam\"> <div class=\"icon spam-flag\"></div> </button> <button class=\"play-button icon-button small rate-review\" data-rating=\"HELPFUL\" title=\"Helpful\"> <div class=\"icon thumbs-up\"></div> </button> <button class=\"play-button icon-button small rate-review\" data-rating=\"UNHELPFUL\" title=\"Unhelpful\"> <div class=\"icon thumbs-down\"></div> </button> </div> </div> <div class=\"review-body with-review-wrapper\"> <span class=\"review-title\"></span> The recent UI changes have made the mobile app redundant for anything other than a random shuffling of all of the liked songs. If you wanted to listen to a specific album or artist, or quickly sort through your artists to cherry pick and queue songs you're out of luck. It used to be a great app, now it's becoming little more that a buggy, and confused nuance. Only fit for surfing the pop charts, and Spotify playlists or podcasts. <div class=\"review-link\" style=\"display:none\"> <a class=\"id-no-nav play-button tiny\" href=\"#\" target=\"_blank\">Full Review</a> </div> </div> </div> <div class=\"single-review\" tabindex=\"0\"> <span> <span class=\"responsive-img-ldpi\"> <span class=\"responsive-img author-image\" style=\"background-image:url(https://lh3.googleusercontent.com/a-/AAuE7mCgMR44YxuTkvQoLWKMZUsB_thmpL1ywX0Livhd=w48-h48-p)\"></span> </span> <span class=\"responsive-img-hdpi\"> <span class=\"responsive-img author-image\" style=\"background-image:url(https://lh3.googleusercontent.com/a-/AAuE7mCgMR44YxuTkvQoLWKMZUsB_thmpL1ywX0Livhd=w96-h96-p)\"></span> </span> </span> <div class=\"review-header\" data-expand-target=\"\" data-reviewid=\"gp:AOqpTOEVYIVT7ollMrdwdayA3DxNY9gPwSihB97WQ45ILkRWMCJD642yFzFQqZsgnsUqS_2puiUm08XJvKYF8w\"> <div class=\"review-info\"> <span class=\"author-name\"> deadwalkin12345 </span> <span class=\"review-date\">25 June 2019</span> <a class=\"reviews-permalink\" href=\"/store/apps/details?id=com.spotify.music&amp;reviewId=Z3A6QU9xcFRPRVZZSVZUN29sbE1yZHdkYXlBM0R4Tlk5Z1B3U2loQjk3V1E0NUlMa1JXTUNKRDY0MnlGekZRcVpzZ25zVXFTXzJwdWlVbTA4WEp2S1lGOHc\" title=\"Link to this review\"></a> <div class=\"review-source\" style=\"display:none\"></div> <div class=\"review-info-star-rating\"> <div aria-label=\"Rated 2 stars out of five stars\" class=\"tiny-star star-rating-non-editable-container\"> <div class=\"current-rating\" jsname=\"jIIjq\" style=\"width:40%\"></div> </div> </div> </div> <div class=\"rate-review-wrapper\"> <button class=\"play-button icon-button small rate-review\" data-rating=\"SPAM\" title=\"Spam\"> <div class=\"icon spam-flag\"></div> </button> <button class=\"play-button icon-button small rate-review\" data-rating=\"HELPFUL\" title=\"Helpful\"> <div class=\"icon thumbs-up\"></div> </button> <button class=\"play-button icon-button small rate-review\" data-rating=\"UNHELPFUL\" title=\"Unhelpful\"> <div class=\"icon thumbs-down\"></div> </button> </div> </div> <div class=\"review-body with-review-wrapper\"> <span class=\"review-title\"></span> Playstation allows you to choose any song from your playlist to listen to for free. On here, you HAVE to pay for premium. Otherwise you have to shuffle your \"liked\" playlist and hope the song you want to listen to in that moment pops up. EDIT: its probably a good thing I either stopped or havent paid for premium. From seeing other reviewers who HAVE paid money, it sounds like theyre having a huge load of issues with bugs and the UI in general. <div class=\"review-link\" style=\"display:none\"> <a class=\"id-no-nav play-button tiny\" href=\"#\" target=\"_blank\">Full Review</a> </div> </div> </div> <div class=\"single-review\" tabindex=\"0\"> <span> <span class=\"responsive-img-ldpi\"> <span class=\"responsive-img author-image\" style=\"background-image:url(https://lh3.googleusercontent.com/a-/AAuE7mD6Bt2Kh9MYW1iOQ0V0qRQZ19SRtiEJkAnVaq04Rg=w48-h48-p)\"></span> </span> <span class=\"responsive-img-hdpi\"> <span class=\"responsive-img author-image\" style=\"background-image:url(https://lh3.googleusercontent.com/a-/AAuE7mD6Bt2Kh9MYW1iOQ0V0qRQZ19SRtiEJkAnVaq04Rg=w96-h96-p)\"></span> </span> </span> <div class=\"review-header\" data-expand-target=\"\" data-reviewid=\"gp:AOqpTOHU1VY40SN3Bc8oCLGgT4Vem9HDr3-WvZtOwWemg_VUWItL13duBRk0GimwsXgL0XVG5yXdswE-Pf6CTg\"> <div class=\"review-info\"> <span class=\"author-name\"> Richard Cable </span> <span class=\"review-date\">25 June 2019</span> <a class=\"reviews-permalink\" href=\"/store/apps/details?id=com.spotify.music&amp;reviewId=Z3A6QU9xcFRPSFUxVlk0MFNOM0JjOG9DTEdnVDRWZW05SERyMy1Xdlp0T3dXZW1nX1ZVV0l0TDEzZHVCUmswR2ltd3NYZ0wwWFZHNXlYZHN3RS1QZjZDVGc\" title=\"Link to this review\"></a> <div class=\"review-source\" style=\"display:none\"></div> <div class=\"review-info-star-rating\"> <div aria-label=\"Rated 1 stars out of five stars\" class=\"tiny-star star-rating-non-editable-container\"> <div class=\"current-rating\" jsname=\"jIIjq\" style=\"width:20%\"></div> </div> </div> </div> <div class=\"rate-review-wrapper\"> <button class=\"play-button icon-button small rate-review\" data-rating=\"SPAM\" title=\"Spam\"> <div class=\"icon spam-flag\"></div> </button> <button class=\"play-button icon-button small rate-review\" data-rating=\"HELPFUL\" title=\"Helpful\"> <div class=\"icon thumbs-up\"></div> </button> <button class=\"play-button icon-button small rate-review\" data-rating=\"UNHELPFUL\" title=\"Unhelpful\"> <div class=\"icon thumbs-down\"></div> </button> </div> </div> <div class=\"review-body with-review-wrapper\"> <span class=\"review-title\"></span> This app doesn't work. I can't get it to work right. But, when I do, an update is performed and the app no longer works. Lol I can't believe how many people are still paying for the premium and complaining about the poor performance! Save your money and use something else. Pandora and iHeart radio are better than this. Amazon Music is similar, but at least it works. <div class=\"review-link\" style=\"display:none\"> <a class=\"id-no-nav play-button tiny\" href=\"#\" target=\"_blank\">Full Review</a> </div> </div> </div> <div class=\"single-review\" tabindex=\"0\"> <span> <span class=\"responsive-img-ldpi\"> <span class=\"responsive-img author-image\" style=\"background-image:url(https://lh5.googleusercontent.com/-YNcm2bE5JKQ/AAAAAAAAAAI/AAAAAAAAAAA/ACHi3rdW09kzcFvHLG3Z0SO8tTUYUjusEQ/w48-h48-p/photo.jpg)\"></span> </span> <span class=\"responsive-img-hdpi\"> <span class=\"responsive-img author-image\" style=\"background-image:url(https://lh5.googleusercontent.com/-YNcm2bE5JKQ/AAAAAAAAAAI/AAAAAAAAAAA/ACHi3rdW09kzcFvHLG3Z0SO8tTUYUjusEQ/w96-h96-p/photo.jpg)\"></span> </span> </span> <div class=\"review-header\" data-expand-target=\"\" data-reviewid=\"gp:AOqpTOGB62yZG7YC7QcIuztOlHWs7iTodFMi8n_6U67j0AnyHE3Y2QC7VTOh2VClcTbU19ym_WUcAgO99EKLUg\"> <div class=\"review-info\"> <span class=\"author-name\"> KEN Cassidy </span> <span class=\"review-date\">27 June 2019</span> <a class=\"reviews-permalink\" href=\"/store/apps/details?id=com.spotify.music&amp;reviewId=Z3A6QU9xcFRPR0I2MnlaRzdZQzdRY0l1enRPbEhXczdpVG9kRk1pOG5fNlU2N2owQW55SEUzWTJRQzdWVE9oMlZDbGNUYlUxOXltX1dVY0FnTzk5RUtMVWc\" title=\"Link to this review\"></a> <div class=\"review-source\" style=\"display:none\"></div> <div class=\"review-info-star-rating\"> <div aria-label=\"Rated 1 stars out of five stars\" class=\"tiny-star star-rating-non-editable-container\"> <div class=\"current-rating\" jsname=\"jIIjq\" style=\"width:20%\"></div> </div> </div> </div> <div class=\"rate-review-wrapper\"> <button class=\"play-button icon-button small rate-review\" data-rating=\"SPAM\" title=\"Spam\"> <div class=\"icon spam-flag\"></div> </button> <button class=\"play-button icon-button small rate-review\" data-rating=\"HELPFUL\" title=\"Helpful\"> <div class=\"icon thumbs-up\"></div> </button> <button class=\"play-button icon-button small rate-review\" data-rating=\"UNHELPFUL\" title=\"Unhelpful\"> <div class=\"icon thumbs-down\"></div> </button> </div> </div> <div class=\"review-body with-review-wrapper\"> <span class=\"review-title\"></span> Last update is garbage. Liked songs? Artist list not in LOGICAL alphabetical order. Many songs that were playable before update are now greyed out and not playable. If you click on one it freezes phone! Spotify WAS my favorite app. Functionally stupid after update. The library format is a mess. I'm canceling subscription! Not worth $9.99 a month after latest update. <div class=\"review-link\" style=\"display:none\"> <a class=\"id-no-nav play-button tiny\" href=\"#\" target=\"_blank\">Full Review</a> </div> </div> </div> <div class=\"single-review\" tabindex=\"0\"> <span> <span class=\"responsive-img-ldpi\"> <span class=\"responsive-img author-image\" style=\"background-image:url(https://lh3.googleusercontent.com/a-/AAuE7mAMDRKVT6oIxQ4qhLZuwCQqyQAPuduR7lDCV6hTeA=w48-h48-p)\"></span> </span> <span class=\"responsive-img-hdpi\"> <span class=\"responsive-img author-image\" style=\"background-image:url(https://lh3.googleusercontent.com/a-/AAuE7mAMDRKVT6oIxQ4qhLZuwCQqyQAPuduR7lDCV6hTeA=w96-h96-p)\"></span> </span> </span> <div class=\"review-header\" data-expand-target=\"\" data-reviewid=\"gp:AOqpTOEUkCNz912fGWGbVhwt9L3TpIPqAUPeyfxm8GEcmp9F_Dr7u9Fxo44M6qeB4sl80BDtrv3lzxEDQ94yEg\"> <div class=\"review-info\"> <span class=\"author-name\"> doug duval </span> <span class=\"review-date\">25 June 2019</span> <a class=\"reviews-permalink\" href=\"/store/apps/details?id=com.spotify.music&amp;reviewId=Z3A6QU9xcFRPRVVrQ056OTEyZkdXR2JWaHd0OUwzVHBJUHFBVVBleWZ4bThHRWNtcDlGX0RyN3U5RnhvNDRNNnFlQjRzbDgwQkR0cnYzbHp4RURROTR5RWc\" title=\"Link to this review\"></a> <div class=\"review-source\" style=\"display:none\"></div> <div class=\"review-info-star-rating\"> <div aria-label=\"Rated 1 stars out of five stars\" class=\"tiny-star star-rating-non-editable-container\"> <div class=\"current-rating\" jsname=\"jIIjq\" style=\"width:20%\"></div> </div> </div> </div> <div class=\"rate-review-wrapper\"> <button class=\"play-button icon-button small rate-review\" data-rating=\"SPAM\" title=\"Spam\"> <div class=\"icon spam-flag\"></div> </button> <button class=\"play-button icon-button small rate-review\" data-rating=\"HELPFUL\" title=\"Helpful\"> <div class=\"icon thumbs-up\"></div> </button> <button class=\"play-button icon-button small rate-review\" data-rating=\"UNHELPFUL\" title=\"Unhelpful\"> <div class=\"icon thumbs-down\"></div> </button> </div> </div> <div class=\"review-body with-review-wrapper\"> <span class=\"review-title\"></span> Overall, was a good app... Do not like the latest update... Very disappointed with the latest update... What was a very easy user interface to use is now very complicated and hard to find songs, albums &amp; artists in the library! Please bring back previous interface! And it now loads very slowly... <div class=\"review-link\" style=\"display:none\"> <a class=\"id-no-nav play-button tiny\" href=\"#\" target=\"_blank\">Full Review</a> </div> </div> </div> <div class=\"single-review\" tabindex=\"0\"> <span> <span class=\"responsive-img-ldpi\"> <span class=\"responsive-img author-image\" style=\"background-image:url(https://lh4.googleusercontent.com/-yhw00FeDud4/AAAAAAAAAAI/AAAAAAAAAAA/ACHi3rdAT5lYwyfjFO7QMfBUbpMRh5N2Tg/w48-h48-p/photo.jpg)\"></span> </span> <span class=\"responsive-img-hdpi\"> <span class=\"responsive-img author-image\" style=\"background-image:url(https://lh4.googleusercontent.com/-yhw00FeDud4/AAAAAAAAAAI/AAAAAAAAAAA/ACHi3rdAT5lYwyfjFO7QMfBUbpMRh5N2Tg/w96-h96-p/photo.jpg)\"></span> </span> </span> <div class=\"review-header\" data-expand-target=\"\" data-reviewid=\"gp:AOqpTOFUyA9h83q1DcvcZ9UhAd6XYzxvg9bjdYQ3r6eNRf2TV4f2jw8pRRK0A8b9tenwfenGNqTx-PdQy-LoWQ\"> <div class=\"review-info\"> <span class=\"author-name\"> Antony Freelove </span> <span class=\"review-date\">10 June 2019</span> <a class=\"reviews-permalink\" href=\"/store/apps/details?id=com.spotify.music&amp;reviewId=Z3A6QU9xcFRPRlV5QTloODNxMURjdmNaOVVoQWQ2WFl6eHZnOWJqZFlRM3I2ZU5SZjJUVjRmMmp3OHBSUkswQThiOXRlbndmZW5HTnFUeC1QZFF5LUxvV1E\" title=\"Link to this review\"></a> <div class=\"review-source\" style=\"display:none\"></div> <div class=\"review-info-star-rating\"> <div aria-label=\"Rated 1 stars out of five stars\" class=\"tiny-star star-rating-non-editable-container\"> <div class=\"current-rating\" jsname=\"jIIjq\" style=\"width:20%\"></div> </div> </div> </div> <div class=\"rate-review-wrapper\"> <button class=\"play-button icon-button small rate-review\" data-rating=\"SPAM\" title=\"Spam\"> <div class=\"icon spam-flag\"></div> </button> <button class=\"play-button icon-button small rate-review\" data-rating=\"HELPFUL\" title=\"Helpful\"> <div class=\"icon thumbs-up\"></div> </button> <button class=\"play-button icon-button small rate-review\" data-rating=\"UNHELPFUL\" title=\"Unhelpful\"> <div class=\"icon thumbs-down\"></div> </button> </div> </div> <div class=\"review-body with-review-wrapper\"> <span class=\"review-title\"></span> Can you do a proper change log please. Saying \"something secret has changed\" under what's new is not helpful. Have you fixed that bug? Will functionality be changed? No one knows. More vagueness, bugs still present. Something may have changed. Maybe. <div class=\"review-link\" style=\"display:none\"> <a class=\"id-no-nav play-button tiny\" href=\"#\" target=\"_blank\">Full Review</a> </div> </div> </div> <div class=\"single-review\" tabindex=\"0\"> <span> <span class=\"responsive-img-ldpi\"> <span class=\"responsive-img author-image\" style=\"background-image:url(https://lh4.googleusercontent.com/-57FJ2h3yhog/AAAAAAAAAAI/AAAAAAAAAAA/ACHi3rePvcqI_YK7QxSuV5zQONQrBNiWgw/w48-h48-p/photo.jpg)\"></span> </span> <span class=\"responsive-img-hdpi\"> <span class=\"responsive-img author-image\" style=\"background-image:url(https://lh4.googleusercontent.com/-57FJ2h3yhog/AAAAAAAAAAI/AAAAAAAAAAA/ACHi3rePvcqI_YK7QxSuV5zQONQrBNiWgw/w96-h96-p/photo.jpg)\"></span> </span> </span> <div class=\"review-header\" data-expand-target=\"\" data-reviewid=\"gp:AOqpTOEBi-Y_KcmSR84FhYqP2QLi6Cn7VBQ1D1rbzkzLskCjrVj1wTqvkpmxODeSxz2StLM3CZbWrH4YWjY7kQ\"> <div class=\"review-info\"> <span class=\"author-name\"> Lester Collins </span> <span class=\"review-date\">25 June 2019</span> <a class=\"reviews-permalink\" href=\"/store/apps/details?id=com.spotify.music&amp;reviewId=Z3A6QU9xcFRPRUJpLVlfS2NtU1I4NEZoWXFQMlFMaTZDbjdWQlExRDFyYnprekxza0NqclZqMXdUcXZrcG14T0RlU3h6MlN0TE0zQ1piV3JINFlXalk3a1E\" title=\"Link to this review\"></a> <div class=\"review-source\" style=\"display:none\"></div> <div class=\"review-info-star-rating\"> <div aria-label=\"Rated 1 stars out of five stars\" class=\"tiny-star star-rating-non-editable-container\"> <div class=\"current-rating\" jsname=\"jIIjq\" style=\"width:20%\"></div> </div> </div> </div> <div class=\"rate-review-wrapper\"> <button class=\"play-button icon-button small rate-review\" data-rating=\"SPAM\" title=\"Spam\"> <div class=\"icon spam-flag\"></div> </button> <button class=\"play-button icon-button small rate-review\" data-rating=\"HELPFUL\" title=\"Helpful\"> <div class=\"icon thumbs-up\"></div> </button> <button class=\"play-button icon-button small rate-review\" data-rating=\"UNHELPFUL\" title=\"Unhelpful\"> <div class=\"icon thumbs-down\"></div> </button> </div> </div> <div class=\"review-body with-review-wrapper\"> <span class=\"review-title\"></span> Long time user. I had years of saved music and Playlists. One day I opened my app and my three saved and downloaded Playlists were gone. When I used Spotify's customer service to get them back, they asked me to give them a receipt or something. But they locked my account so I wasn't able to get in. When I tried to log in, they said my account no longer existed and when I tried to reset my password, same result. A week later I got an email saying that my premium subscription was canceled. Im hurt. <div class=\"review-link\" style=\"display:none\"> <a class=\"id-no-nav play-button tiny\" href=\"#\" target=\"_blank\">Full Review</a> </div> </div> </div> <div class=\"single-review\" tabindex=\"0\"> <span> <span class=\"responsive-img-ldpi\"> <span class=\"responsive-img author-image\" style=\"background-image:url(https://lh3.googleusercontent.com/a-/AAuE7mDwooRsAJSzwPUMau2C98f5lBW-M7jyhAOvUi3fiw=w48-h48-p)\"></span> </span> <span class=\"responsive-img-hdpi\"> <span class=\"responsive-img author-image\" style=\"background-image:url(https://lh3.googleusercontent.com/a-/AAuE7mDwooRsAJSzwPUMau2C98f5lBW-M7jyhAOvUi3fiw=w96-h96-p)\"></span> </span> </span> <div class=\"review-header\" data-expand-target=\"\" data-reviewid=\"gp:AOqpTOF6Q4cGQoMB16xvbG8jLBuF69KoQXnjGJ7WOPuRNjyDOpMIDc4mOCA899cPZmsl5GfN3kZv8Oid3E4vtw\"> <div class=\"review-info\"> <span class=\"author-name\"> namjesus is my religion </span> <span class=\"review-date\">25 June 2019</span> <a class=\"reviews-permalink\" href=\"/store/apps/details?id=com.spotify.music&amp;reviewId=Z3A6QU9xcFRPRjZRNGNHUW9NQjE2eHZiRzhqTEJ1RjY5S29RWG5qR0o3V09QdVJOanlET3BNSURjNG1PQ0E4OTljUFptc2w1R2ZOM2tadjhPaWQzRTR2dHc\" title=\"Link to this review\"></a> <div class=\"review-source\" style=\"display:none\"></div> <div class=\"review-info-star-rating\"> <div aria-label=\"Rated 1 stars out of five stars\" class=\"tiny-star star-rating-non-editable-container\"> <div class=\"current-rating\" jsname=\"jIIjq\" style=\"width:20%\"></div> </div> </div> </div> <div class=\"rate-review-wrapper\"> <button class=\"play-button icon-button small rate-review\" data-rating=\"SPAM\" title=\"Spam\"> <div class=\"icon spam-flag\"></div> </button> <button class=\"play-button icon-button small rate-review\" data-rating=\"HELPFUL\" title=\"Helpful\"> <div class=\"icon thumbs-up\"></div> </button> <button class=\"play-button icon-button small rate-review\" data-rating=\"UNHELPFUL\" title=\"Unhelpful\"> <div class=\"icon thumbs-down\"></div> </button> </div> </div> <div class=\"review-body with-review-wrapper\"> <span class=\"review-title\"></span> So, I've used Spotify for some time and recently it's been getting on my nerves. It will not autoplay when I'm not on the app. I'll be using another app while listening and once the song ends, I have to go back on the app just for it to play the next song. I've checked my setting and I'm sure as hell autoplay is on. The app will just randomly shut off. It does this about 9 times a day! I'm sure it's not my phone cause I got my phone checked recently. Please do something!!! <div class=\"review-link\" style=\"display:none\"> <a class=\"id-no-nav play-button tiny\" href=\"#\" target=\"_blank\">Full Review</a> </div> </div> </div> <div class=\"single-review\" tabindex=\"0\"> <span> <span class=\"responsive-img-ldpi\"> <span class=\"responsive-img author-image\" style=\"background-image:url(https://lh3.googleusercontent.com/a-/AAuE7mBsM2Ez0Fmhi49CJLX41gVdsqRdhyfYuEDUGzxr5A=w48-h48-p)\"></span> </span> <span class=\"responsive-img-hdpi\"> <span class=\"responsive-img author-image\" style=\"background-image:url(https://lh3.googleusercontent.com/a-/AAuE7mBsM2Ez0Fmhi49CJLX41gVdsqRdhyfYuEDUGzxr5A=w96-h96-p)\"></span> </span> </span> <div class=\"review-header\" data-expand-target=\"\" data-reviewid=\"gp:AOqpTOEVSMpsdASSL6cKe1wi-f0ZUlDKO-hQ83bIxsvZImLDDVJinQ0s1Yt49V9_9ayuYoAHR_T2brhmkiSkLw\"> <div class=\"review-info\"> <span class=\"author-name\"> Geoff Glave </span> <span class=\"review-date\">7 June 2019</span> <a class=\"reviews-permalink\" href=\"/store/apps/details?id=com.spotify.music&amp;reviewId=Z3A6QU9xcFRPRVZTTXBzZEFTU0w2Y0tlMXdpLWYwWlVsREtPLWhRODNiSXhzdlpJbUxERFZKaW5RMHMxWXQ0OVY5XzlheXVZb0FIUl9UMmJyaG1raVNrTHc\" title=\"Link to this review\"></a> <div class=\"review-source\" style=\"display:none\"></div> <div class=\"review-info-star-rating\"> <div aria-label=\"Rated 1 stars out of five stars\" class=\"tiny-star star-rating-non-editable-container\"> <div class=\"current-rating\" jsname=\"jIIjq\" style=\"width:20%\"></div> </div> </div> </div> <div class=\"rate-review-wrapper\"> <button class=\"play-button icon-button small rate-review\" data-rating=\"SPAM\" title=\"Spam\"> <div class=\"icon spam-flag\"></div> </button> <button class=\"play-button icon-button small rate-review\" data-rating=\"HELPFUL\" title=\"Helpful\"> <div class=\"icon thumbs-up\"></div> </button> <button class=\"play-button icon-button small rate-review\" data-rating=\"UNHELPFUL\" title=\"Unhelpful\"> <div class=\"icon thumbs-down\"></div> </button> </div> </div> <div class=\"review-body with-review-wrapper\"> <span class=\"review-title\"></span> Very confusing app that gobbles mobile data. If I start playing at home on a tablet on wifi, thanks to \"Spotify Connect\" it randomly starts playing on the phone as well - Even if the phone is in a jacket pocket on cellular data. Doesn't appear to be any clear settings to turn this off, or force to WiFi!  If I'm playing on a table or PC why does my phone suddenly take over? If you install the app on a tablet and sign up for a family plan, unlike Netflix there's no way to choose which family member is using the app. All in all a confusing experience in a kludgy app.  Avoid. <div class=\"review-link\" style=\"display:none\"> <a class=\"id-no-nav play-button tiny\" href=\"#\" target=\"_blank\">Full Review</a> </div> </div> </div> <div class=\"single-review\" tabindex=\"0\"> <span> <span class=\"responsive-img-ldpi\"> <span class=\"responsive-img author-image\" style=\"background-image:url(https://lh3.googleusercontent.com/a-/AAuE7mAuEGNzYEU5scX4ZRiyD1Xnx-vqUAFGWTWLRtLu7w=w48-h48-p)\"></span> </span> <span class=\"responsive-img-hdpi\"> <span class=\"responsive-img author-image\" style=\"background-image:url(https://lh3.googleusercontent.com/a-/AAuE7mAuEGNzYEU5scX4ZRiyD1Xnx-vqUAFGWTWLRtLu7w=w96-h96-p)\"></span> </span> </span> <div class=\"review-header\" data-expand-target=\"\" data-reviewid=\"gp:AOqpTOHXXU-khypSr66E8jSDFjhm8qdgFzZTRmiNToaxeMiFMAFeQoVcXcrNr8WxD_47fgRI9-RUiR9GmnRl0w\"> <div class=\"review-info\"> <span class=\"author-name\"> Alastair White </span> <span class=\"review-date\">25 June 2019</span> <a class=\"reviews-permalink\" href=\"/store/apps/details?id=com.spotify.music&amp;reviewId=Z3A6QU9xcFRPSFhYVS1raHlwU3I2NkU4alNERmpobThxZGdGelpUUm1pTlRvYXhlTWlGTUFGZVFvVmNYY3JOcjhXeERfNDdmZ1JJOS1SVWlSOUdtblJsMHc\" title=\"Link to this review\"></a> <div class=\"review-source\" style=\"display:none\"></div> <div class=\"review-info-star-rating\"> <div aria-label=\"Rated 2 stars out of five stars\" class=\"tiny-star star-rating-non-editable-container\"> <div class=\"current-rating\" jsname=\"jIIjq\" style=\"width:40%\"></div> </div> </div> </div> <div class=\"rate-review-wrapper\"> <button class=\"play-button icon-button small rate-review\" data-rating=\"SPAM\" title=\"Spam\"> <div class=\"icon spam-flag\"></div> </button> <button class=\"play-button icon-button small rate-review\" data-rating=\"HELPFUL\" title=\"Helpful\"> <div class=\"icon thumbs-up\"></div> </button> <button class=\"play-button icon-button small rate-review\" data-rating=\"UNHELPFUL\" title=\"Unhelpful\"> <div class=\"icon thumbs-down\"></div> </button> </div> </div> <div class=\"review-body with-review-wrapper\"> <span class=\"review-title\"></span> Since the latest update I hate the new library. Why can't I have all my songs in one spot, like before? Why do I have to follow an artist? It also seems to go through a lot of data even though I am super careful to only play downloaded music when I'm not on wifi. I love the recommendations and radios, but the UI has always been pretty atrocious and this update made it so much worse. <div class=\"review-link\" style=\"display:none\"> <a class=\"id-no-nav play-button tiny\" href=\"#\" target=\"_blank\">Full Review</a> </div> </div> </div> <div class=\"single-review\" tabindex=\"0\"> <span> <span class=\"responsive-img-ldpi\"> <span class=\"responsive-img author-image\" style=\"background-image:url(https://lh3.googleusercontent.com/a-/AAuE7mARDF7EWmUlxktAFPI6XFXT53xvNoEVbKJSJ5Np6w=w48-h48-p)\"></span> </span> <span class=\"responsive-img-hdpi\"> <span class=\"responsive-img author-image\" style=\"background-image:url(https://lh3.googleusercontent.com/a-/AAuE7mARDF7EWmUlxktAFPI6XFXT53xvNoEVbKJSJ5Np6w=w96-h96-p)\"></span> </span> </span> <div class=\"review-header\" data-expand-target=\"\" data-reviewid=\"gp:AOqpTOGb3xbOHAopNRSEPH8_QEm54cNKCJQOSGyBSFiJ-2QF81zus9xnUTpT44kKa9nvFLtSeJ0TVb_AizXeKA\"> <div class=\"review-info\"> <span class=\"author-name\"> TigerPunk </span> <span class=\"review-date\">25 June 2019</span> <a class=\"reviews-permalink\" href=\"/store/apps/details?id=com.spotify.music&amp;reviewId=Z3A6QU9xcFRPR2IzeGJPSEFvcE5SU0VQSDhfUUVtNTRjTktDSlFPU0d5QlNGaUotMlFGODF6dXM5eG5VVHBUNDRrS2E5bnZGTHRTZUowVFZiX0FpelhlS0E\" title=\"Link to this review\"></a> <div class=\"review-source\" style=\"display:none\"></div> <div class=\"review-info-star-rating\"> <div aria-label=\"Rated 1 stars out of five stars\" class=\"tiny-star star-rating-non-editable-container\"> <div class=\"current-rating\" jsname=\"jIIjq\" style=\"width:20%\"></div> </div> </div> </div> <div class=\"rate-review-wrapper\"> <button class=\"play-button icon-button small rate-review\" data-rating=\"SPAM\" title=\"Spam\"> <div class=\"icon spam-flag\"></div> </button> <button class=\"play-button icon-button small rate-review\" data-rating=\"HELPFUL\" title=\"Helpful\"> <div class=\"icon thumbs-up\"></div> </button> <button class=\"play-button icon-button small rate-review\" data-rating=\"UNHELPFUL\" title=\"Unhelpful\"> <div class=\"icon thumbs-down\"></div> </button> </div> </div> <div class=\"review-body with-review-wrapper\"> <span class=\"review-title\"></span> I've been a premium user for maybe 4 years now and I've really loved this app, but this latest update has definitely got to be the worst change they've made yet. Finding your saved music has become impossible. Your saved songs now appear alongside the playlists, the recently played section is not under your library anymore and the menu's take forever to load, even when in offline mode. On top of that, your list of saved artists is not even alphabetically sorted. Don't buy premium until its fixed <div class=\"review-link\" style=\"display:none\"> <a class=\"id-no-nav play-button tiny\" href=\"#\" target=\"_blank\">Full Review</a> </div> </div> </div> <div class=\"single-review\" tabindex=\"0\"> <span> <span class=\"responsive-img-ldpi\"> <span class=\"responsive-img author-image\" style=\"background-image:url(https://lh3.googleusercontent.com/-Tz_bKyGCsb4/AAAAAAAAAAI/AAAAAAAAAAA/ACHi3rdeznNziK3YCjmFrJHuKoI6RRH-YA/w48-h48-p/photo.jpg)\"></span> </span> <span class=\"responsive-img-hdpi\"> <span class=\"responsive-img author-image\" style=\"background-image:url(https://lh3.googleusercontent.com/-Tz_bKyGCsb4/AAAAAAAAAAI/AAAAAAAAAAA/ACHi3rdeznNziK3YCjmFrJHuKoI6RRH-YA/w96-h96-p/photo.jpg)\"></span> </span> </span> <div class=\"review-header\" data-expand-target=\"\" data-reviewid=\"gp:AOqpTOG-48VIzHXgyHJwh-ooPqSFh-mm_4Pdd9XVRRiWskS6tGCmfaR6VhsvCmBqLhOtHDpo7iibttsSGXbzhA\"> <div class=\"review-info\"> <span class=\"author-name\"> Eric Mongrain </span> <span class=\"review-date\">29 June 2019</span> <a class=\"reviews-permalink\" href=\"/store/apps/details?id=com.spotify.music&amp;reviewId=Z3A6QU9xcFRPRy00OFZJekhYZ3lISndoLW9vUHFTRmgtbW1fNFBkZDlYVlJSaVdza1M2dEdDbWZhUjZWaHN2Q21CcUxoT3RIRHBvN2lpYnR0c1NHWGJ6aEE\" title=\"Link to this review\"></a> <div class=\"review-source\" style=\"display:none\"></div> <div class=\"review-info-star-rating\"> <div aria-label=\"Rated 1 stars out of five stars\" class=\"tiny-star star-rating-non-editable-container\"> <div class=\"current-rating\" jsname=\"jIIjq\" style=\"width:20%\"></div> </div> </div> </div> <div class=\"rate-review-wrapper\"> <button class=\"play-button icon-button small rate-review\" data-rating=\"SPAM\" title=\"Spam\"> <div class=\"icon spam-flag\"></div> </button> <button class=\"play-button icon-button small rate-review\" data-rating=\"HELPFUL\" title=\"Helpful\"> <div class=\"icon thumbs-up\"></div> </button> <button class=\"play-button icon-button small rate-review\" data-rating=\"UNHELPFUL\" title=\"Unhelpful\"> <div class=\"icon thumbs-down\"></div> </button> </div> </div> <div class=\"review-body with-review-wrapper\"> <span class=\"review-title\"></span> Why can't we rate zero stars, this new update doesn't deserve any stars. It no longer works well. Cant save individual albums any longer without following an artist. the artis now. Not able to find saved music anymore, it's on my memory card but won't play when offline. When I choose an artist from my library it just brings up a blank screen. EDIT: Moved to Apple music, it was a good choice. <div class=\"review-link\" style=\"display:none\"> <a class=\"id-no-nav play-button tiny\" href=\"#\" target=\"_blank\">Full Review</a> </div> </div> </div> <div class=\"single-review\" tabindex=\"0\"> <span> <span class=\"responsive-img-ldpi\"> <span class=\"responsive-img author-image\" style=\"background-image:url(https://lh3.googleusercontent.com/a-/AAuE7mAc1SraeDGQVBQrs_2LHQmZEl328ise1Xdwz-QXyQ=w48-h48-p)\"></span> </span> <span class=\"responsive-img-hdpi\"> <span class=\"responsive-img author-image\" style=\"background-image:url(https://lh3.googleusercontent.com/a-/AAuE7mAc1SraeDGQVBQrs_2LHQmZEl328ise1Xdwz-QXyQ=w96-h96-p)\"></span> </span> </span> <div class=\"review-header\" data-expand-target=\"\" data-reviewid=\"gp:AOqpTOHH3VZkbiHWVAStu7kMGVmqYJUfGcTiN1uanX6kyajTOT6B3Wb0sVnczcg0PtWF0P-n6dlr7NOR5TvceQ\"> <div class=\"review-info\"> <span class=\"author-name\"> Michael Hinnebusch </span> <span class=\"review-date\">14 June 2019</span> <a class=\"reviews-permalink\" href=\"/store/apps/details?id=com.spotify.music&amp;reviewId=Z3A6QU9xcFRPSEgzVlprYmlIV1ZBU3R1N2tNR1ZtcVlKVWZHY1RpTjF1YW5YNmt5YWpUT1Q2QjNXYjBzVm5jemNnMFB0V0YwUC1uNmRscjdOT1I1VHZjZVE\" title=\"Link to this review\"></a> <div class=\"review-source\" style=\"display:none\"></div> <div class=\"review-info-star-rating\"> <div aria-label=\"Rated 1 stars out of five stars\" class=\"tiny-star star-rating-non-editable-container\"> <div class=\"current-rating\" jsname=\"jIIjq\" style=\"width:20%\"></div> </div> </div> </div> <div class=\"rate-review-wrapper\"> <button class=\"play-button icon-button small rate-review\" data-rating=\"SPAM\" title=\"Spam\"> <div class=\"icon spam-flag\"></div> </button> <button class=\"play-button icon-button small rate-review\" data-rating=\"HELPFUL\" title=\"Helpful\"> <div class=\"icon thumbs-up\"></div> </button> <button class=\"play-button icon-button small rate-review\" data-rating=\"UNHELPFUL\" title=\"Unhelpful\"> <div class=\"icon thumbs-down\"></div> </button> </div> </div> <div class=\"review-body with-review-wrapper\"> <span class=\"review-title\"></span> This is the worst update yet. Could y'all return the saved song page and not hide the search bars in the playlists. It's also annoying that everytime I use the search bar and select the song, instead of adding it to queue, it only play the songs that popped up in the search. I don't want to play every song or artist that has \"Thunder\" in it. This new format really makes finding and playing songs. annoying <div class=\"review-link\" style=\"display:none\"> <a class=\"id-no-nav play-button tiny\" href=\"#\" target=\"_blank\">Full Review</a> </div> </div> </div> <div class=\"single-review\" tabindex=\"0\"> <span> <span class=\"responsive-img-ldpi\"> <span class=\"responsive-img author-image\" style=\"background-image:url(https://lh6.googleusercontent.com/-zyol6k3nIyo/AAAAAAAAAAI/AAAAAAAAAAA/ACHi3reBXUPlCu8uBwLApnnWTMMt4YZ3pg/w48-h48-p/photo.jpg)\"></span> </span> <span class=\"responsive-img-hdpi\"> <span class=\"responsive-img author-image\" style=\"background-image:url(https://lh6.googleusercontent.com/-zyol6k3nIyo/AAAAAAAAAAI/AAAAAAAAAAA/ACHi3reBXUPlCu8uBwLApnnWTMMt4YZ3pg/w96-h96-p/photo.jpg)\"></span> </span> </span> <div class=\"review-header\" data-expand-target=\"\" data-reviewid=\"gp:AOqpTOEdM5AP8h78J_3E5pmwWtstNZlTBmd3N_Efrig0w6sXbyFgsTXnaBkKaW-W47E6UEWE0P8uCWemH1c45w\"> <div class=\"review-info\"> <span class=\"author-name\"> Sara Melvin </span> <span class=\"review-date\">18 June 2019</span> <a class=\"reviews-permalink\" href=\"/store/apps/details?id=com.spotify.music&amp;reviewId=Z3A6QU9xcFRPRWRNNUFQOGg3OEpfM0U1cG13V3RzdE5abFRCbWQzTl9FZnJpZzB3NnNYYnlGZ3NUWG5hQmtLYVctVzQ3RTZVRVdFMFA4dUNXZW1IMWM0NXc\" title=\"Link to this review\"></a> <div class=\"review-source\" style=\"display:none\"></div> <div class=\"review-info-star-rating\"> <div aria-label=\"Rated 1 stars out of five stars\" class=\"tiny-star star-rating-non-editable-container\"> <div class=\"current-rating\" jsname=\"jIIjq\" style=\"width:20%\"></div> </div> </div> </div> <div class=\"rate-review-wrapper\"> <button class=\"play-button icon-button small rate-review\" data-rating=\"SPAM\" title=\"Spam\"> <div class=\"icon spam-flag\"></div> </button> <button class=\"play-button icon-button small rate-review\" data-rating=\"HELPFUL\" title=\"Helpful\"> <div class=\"icon thumbs-up\"></div> </button> <button class=\"play-button icon-button small rate-review\" data-rating=\"UNHELPFUL\" title=\"Unhelpful\"> <div class=\"icon thumbs-down\"></div> </button> </div> </div> <div class=\"review-body with-review-wrapper\"> <span class=\"review-title\"></span> if I could leave negative stars, I would. This latest update is a backwards step in usefulness. You don't get to see what albums you have saved. If you don't follow an artist then they don't show up on your list. If you search an artist and play their stuff, it tries to play all their albums, not just what you have saved, so there's now random silences when you aren't on wifi. There's still no landscape mode. Absolutely terrible on being useful and user friendly. <div class=\"review-link\" style=\"display:none\"> <a class=\"id-no-nav play-button tiny\" href=\"#\" target=\"_blank\">Full Review</a> </div> </div> </div> <div class=\"single-review\" tabindex=\"0\"> <span> <span class=\"responsive-img-ldpi\"> <span class=\"responsive-img author-image\" style=\"background-image:url(https://lh3.googleusercontent.com/a-/AAuE7mDH1EFEMAibeGtTAUhDgsZdtqSQD96NJwsRUA_tbg=w48-h48-p)\"></span> </span> <span class=\"responsive-img-hdpi\"> <span class=\"responsive-img author-image\" style=\"background-image:url(https://lh3.googleusercontent.com/a-/AAuE7mDH1EFEMAibeGtTAUhDgsZdtqSQD96NJwsRUA_tbg=w96-h96-p)\"></span> </span> </span> <div class=\"review-header\" data-expand-target=\"\" data-reviewid=\"gp:AOqpTOFDAw-KYuaCYlFeRcJqsZCEhLxpR6FiC9PN6FDuFm8ToOoWnDS7iSCCbZo3foHS_TElDsINmZdCX4naPA\"> <div class=\"review-info\"> <span class=\"author-name\"> Draco Anonymous </span> <span class=\"review-date\">20 June 2019</span> <a class=\"reviews-permalink\" href=\"/store/apps/details?id=com.spotify.music&amp;reviewId=Z3A6QU9xcFRPRkRBdy1LWXVhQ1lsRmVSY0pxc1pDRWhMeHBSNkZpQzlQTjZGRHVGbThUb09vV25EUzdpU0NDYlpvM2ZvSFNfVEVsRHNJTm1aZENYNG5hUEE\" title=\"Link to this review\"></a> <div class=\"review-source\" style=\"display:none\"></div> <div class=\"review-info-star-rating\"> <div aria-label=\"Rated 1 stars out of five stars\" class=\"tiny-star star-rating-non-editable-container\"> <div class=\"current-rating\" jsname=\"jIIjq\" style=\"width:20%\"></div> </div> </div> </div> <div class=\"rate-review-wrapper\"> <button class=\"play-button icon-button small rate-review\" data-rating=\"SPAM\" title=\"Spam\"> <div class=\"icon spam-flag\"></div> </button> <button class=\"play-button icon-button small rate-review\" data-rating=\"HELPFUL\" title=\"Helpful\"> <div class=\"icon thumbs-up\"></div> </button> <button class=\"play-button icon-button small rate-review\" data-rating=\"UNHELPFUL\" title=\"Unhelpful\"> <div class=\"icon thumbs-down\"></div> </button> </div> </div> <div class=\"review-body with-review-wrapper\"> <span class=\"review-title\"></span> edit: not only has this problem gotten worse, but the most recent update has reached entirely new levels of bull. The ui is extremely screwed up now. Many people (including myself in the last edit) are saying that the \"saved music\" part of the app is gone. Thankfully this isn't true at least not entirely. Spotify seems extremely confused on whether they want to stay an on demand music service or if they want to start copying pandora. They changed it to \"liked songs\" and hid it on the home screen. <div class=\"review-link\" style=\"display:none\"> <a class=\"id-no-nav play-button tiny\" href=\"#\" target=\"_blank\">Full Review</a> </div> </div> </div> <div class=\"single-review\" tabindex=\"0\"> <span> <span class=\"responsive-img-ldpi\"> <span class=\"responsive-img author-image\" style=\"background-image:url(https://lh3.googleusercontent.com/a-/AAuE7mDGUUJMaDkk5JtE4qyiEmybKbJdZ5pT4Sw7uXqKFw=w48-h48-p)\"></span> </span> <span class=\"responsive-img-hdpi\"> <span class=\"responsive-img author-image\" style=\"background-image:url(https://lh3.googleusercontent.com/a-/AAuE7mDGUUJMaDkk5JtE4qyiEmybKbJdZ5pT4Sw7uXqKFw=w96-h96-p)\"></span> </span> </span> <div class=\"review-header\" data-expand-target=\"\" data-reviewid=\"gp:AOqpTOEBbHfYoBnMIYQzAJrmj8HdNo7mbLG3mE4-UaGvaj7NKRVsUcqBR9YdiFwlOaGiHI96cV2kaLP94bupYw\"> <div class=\"review-info\"> <span class=\"author-name\"> Egan D </span> <span class=\"review-date\">10 June 2019</span> <a class=\"reviews-permalink\" href=\"/store/apps/details?id=com.spotify.music&amp;reviewId=Z3A6QU9xcFRPRUJiSGZZb0JuTUlZUXpBSnJtajhIZE5vN21iTEczbUU0LVVhR3ZhajdOS1JWc1VjcUJSOVlkaUZ3bE9hR2lISTk2Y1Yya2FMUDk0YnVwWXc\" title=\"Link to this review\"></a> <div class=\"review-source\" style=\"display:none\"></div> <div class=\"review-info-star-rating\"> <div aria-label=\"Rated 1 stars out of five stars\" class=\"tiny-star star-rating-non-editable-container\"> <div class=\"current-rating\" jsname=\"jIIjq\" style=\"width:20%\"></div> </div> </div> </div> <div class=\"rate-review-wrapper\"> <button class=\"play-button icon-button small rate-review\" data-rating=\"SPAM\" title=\"Spam\"> <div class=\"icon spam-flag\"></div> </button> <button class=\"play-button icon-button small rate-review\" data-rating=\"HELPFUL\" title=\"Helpful\"> <div class=\"icon thumbs-up\"></div> </button> <button class=\"play-button icon-button small rate-review\" data-rating=\"UNHELPFUL\" title=\"Unhelpful\"> <div class=\"icon thumbs-down\"></div> </button> </div> </div> <div class=\"review-body with-review-wrapper\"> <span class=\"review-title\"></span> App worked great for years. Was simple, easy to use, and always ran smoothly. Since the UI update (which is actually less visually appealing), the app is less intuitive, less useful, and filled with bugs. I haven't kept up with the news, but it kinda feels like they got bought out or got new staff. Both are never good signs. EDIT: BRING BACK LANDSCAPE MODE. WHAT ARE YOU DOING? <div class=\"review-link\" style=\"display:none\"> <a class=\"id-no-nav play-button tiny\" href=\"#\" target=\"_blank\">Full Review</a> </div> </div> </div> <div class=\"single-review\" tabindex=\"0\"> <span> <span class=\"responsive-img-ldpi\"> <span class=\"responsive-img author-image\" style=\"background-image:url(https://lh3.googleusercontent.com/a-/AAuE7mDJ1qDd3jv_79pM6Qq15P2NsQ6OrI27CwWZHsoj1A=w48-h48-p)\"></span> </span> <span class=\"responsive-img-hdpi\"> <span class=\"responsive-img author-image\" style=\"background-image:url(https://lh3.googleusercontent.com/a-/AAuE7mDJ1qDd3jv_79pM6Qq15P2NsQ6OrI27CwWZHsoj1A=w96-h96-p)\"></span> </span> </span> <div class=\"review-header\" data-expand-target=\"\" data-reviewid=\"gp:AOqpTOFDLcCHj7xRhSQ5PODimAtnMIpKEFwHDbGtnQTYeFgekuKBG3UjRN1UfmQGSVIOiNff4-DvTkGZ0UCprQ\"> <div class=\"review-info\"> <span class=\"author-name\"> Austin Dobert </span> <span class=\"review-date\">11 June 2019</span> <a class=\"reviews-permalink\" href=\"/store/apps/details?id=com.spotify.music&amp;reviewId=Z3A6QU9xcFRPRkRMY0NIajd4UmhTUTVQT0RpbUF0bk1JcEtFRndIRGJHdG5RVFllRmdla3VLQkczVWpSTjFVZm1RR1NWSU9pTmZmNC1EdlRrR1owVUNwclE\" title=\"Link to this review\"></a> <div class=\"review-source\" style=\"display:none\"></div> <div class=\"review-info-star-rating\"> <div aria-label=\"Rated 2 stars out of five stars\" class=\"tiny-star star-rating-non-editable-container\"> <div class=\"current-rating\" jsname=\"jIIjq\" style=\"width:40%\"></div> </div> </div> </div> <div class=\"rate-review-wrapper\"> <button class=\"play-button icon-button small rate-review\" data-rating=\"SPAM\" title=\"Spam\"> <div class=\"icon spam-flag\"></div> </button> <button class=\"play-button icon-button small rate-review\" data-rating=\"HELPFUL\" title=\"Helpful\"> <div class=\"icon thumbs-up\"></div> </button> <button class=\"play-button icon-button small rate-review\" data-rating=\"UNHELPFUL\" title=\"Unhelpful\"> <div class=\"icon thumbs-down\"></div> </button> </div> </div> <div class=\"review-body with-review-wrapper\"> <span class=\"review-title\"></span> The app has been trash for years. I constantly have to reinstall. Over countless different phones and carriers, I can't tell you how many times I've lost the huge library of downloaded music I had on my phone at any given time. I know you can re-download the music but its infuriating when you're getting ready to listen to offline music and then you find out your whole library has wiped. It happens monthly. Additionally, for the fifteen-thousandth time.... I. DO. NOT. WANT. TO. USE. WAZE. <div class=\"review-link\" style=\"display:none\"> <a class=\"id-no-nav play-button tiny\" href=\"#\" target=\"_blank\">Full Review</a> </div> </div> </div> <div class=\"single-review\" tabindex=\"0\"> <span> <span class=\"responsive-img-ldpi\"> <span class=\"responsive-img author-image\" style=\"background-image:url(https://lh3.googleusercontent.com/a-/AAuE7mAJXbVbto-Ym2mjri-A-7LEzLDK1yFcwDPpg447NA=w48-h48-p)\"></span> </span> <span class=\"responsive-img-hdpi\"> <span class=\"responsive-img author-image\" style=\"background-image:url(https://lh3.googleusercontent.com/a-/AAuE7mAJXbVbto-Ym2mjri-A-7LEzLDK1yFcwDPpg447NA=w96-h96-p)\"></span> </span> </span> <div class=\"review-header\" data-expand-target=\"\" data-reviewid=\"gp:AOqpTOHJd261L2KCp1d5HN5ShCw7N_xn5Po7_y_1TqYG7N94QQ2dJMtZwX8HIgA5_g5VAat1pORdHVEhsT0oHw\"> <div class=\"review-info\"> <span class=\"author-name\"> Mark Anderson </span> <span class=\"review-date\">18 June 2019</span> <a class=\"reviews-permalink\" href=\"/store/apps/details?id=com.spotify.music&amp;reviewId=Z3A6QU9xcFRPSEpkMjYxTDJLQ3AxZDVITjVTaEN3N05feG41UG83X3lfMVRxWUc3Tjk0UVEyZEpNdFp3WDhISWdBNV9nNVZBYXQxcE9SZEhWRWhzVDBvSHc\" title=\"Link to this review\"></a> <div class=\"review-source\" style=\"display:none\"></div> <div class=\"review-info-star-rating\"> <div aria-label=\"Rated 1 stars out of five stars\" class=\"tiny-star star-rating-non-editable-container\"> <div class=\"current-rating\" jsname=\"jIIjq\" style=\"width:20%\"></div> </div> </div> </div> <div class=\"rate-review-wrapper\"> <button class=\"play-button icon-button small rate-review\" data-rating=\"SPAM\" title=\"Spam\"> <div class=\"icon spam-flag\"></div> </button> <button class=\"play-button icon-button small rate-review\" data-rating=\"HELPFUL\" title=\"Helpful\"> <div class=\"icon thumbs-up\"></div> </button> <button class=\"play-button icon-button small rate-review\" data-rating=\"UNHELPFUL\" title=\"Unhelpful\"> <div class=\"icon thumbs-down\"></div> </button> </div> </div> <div class=\"review-body with-review-wrapper\"> <span class=\"review-title\"></span> I'm not a fan of change, but let me very clear: This update is objectively bad. I have numerous, single songs saved from albums, as I enjoy the song but may not like the album as a whole. Now, I'm not able to find those except under \"recommended albums\" which a) make me worried some are missing and b) are in random order. If this isn't fixed soon, I will cancel my subscription and just swap to Google Play. <div class=\"review-link\" style=\"display:none\"> <a class=\"id-no-nav play-button tiny\" href=\"#\" target=\"_blank\">Full Review</a> </div> </div> </div> <div class=\"single-review\" tabindex=\"0\"> <span> <span class=\"responsive-img-ldpi\"> <span class=\"responsive-img author-image\" style=\"background-image:url(https://lh4.googleusercontent.com/-V6pJUCv0SC0/AAAAAAAAAAI/AAAAAAAAAAA/ACHi3rfXVuhPcROnydUfckQrmb4tmWq38A/w48-h48-p/photo.jpg)\"></span> </span> <span class=\"responsive-img-hdpi\"> <span class=\"responsive-img author-image\" style=\"background-image:url(https://lh4.googleusercontent.com/-V6pJUCv0SC0/AAAAAAAAAAI/AAAAAAAAAAA/ACHi3rfXVuhPcROnydUfckQrmb4tmWq38A/w96-h96-p/photo.jpg)\"></span> </span> </span> <div class=\"review-header\" data-expand-target=\"\" data-reviewid=\"gp:AOqpTOHdSUnAggHjyu9dbo2ORn2DUzcTHjI8zCdlEcVYk_ci_XcdgBZRn7cn48_eEW95GbPQuqVhucii08nDHQ\"> <div class=\"review-info\"> <span class=\"author-name\"> Jeff Layton </span> <span class=\"review-date\">21 June 2019</span> <a class=\"reviews-permalink\" href=\"/store/apps/details?id=com.spotify.music&amp;reviewId=Z3A6QU9xcFRPSGRTVW5BZ2dIanl1OWRibzJPUm4yRFV6Y1RIakk4ekNkbEVjVllrX2NpX1hjZGdCWlJuN2NuNDhfZUVXOTVHYlBRdXFWaHVjaWkwOG5ESFE\" title=\"Link to this review\"></a> <div class=\"review-source\" style=\"display:none\"></div> <div class=\"review-info-star-rating\"> <div aria-label=\"Rated 1 stars out of five stars\" class=\"tiny-star star-rating-non-editable-container\"> <div class=\"current-rating\" jsname=\"jIIjq\" style=\"width:20%\"></div> </div> </div> </div> <div class=\"rate-review-wrapper\"> <button class=\"play-button icon-button small rate-review\" data-rating=\"SPAM\" title=\"Spam\"> <div class=\"icon spam-flag\"></div> </button> <button class=\"play-button icon-button small rate-review\" data-rating=\"HELPFUL\" title=\"Helpful\"> <div class=\"icon thumbs-up\"></div> </button> <button class=\"play-button icon-button small rate-review\" data-rating=\"UNHELPFUL\" title=\"Unhelpful\"> <div class=\"icon thumbs-down\"></div> </button> </div> </div> <div class=\"review-body with-review-wrapper\"> <span class=\"review-title\"></span> Update made terrible changes! App no longer provides the most basic thing, a list of the artists &amp; songs I've added. It gives a partial list, and even that is not sorted in alphabetical order. Everything is playlist-based now. Who, in their right mind, thought this was a good idea??? That is just amazingly stupid. If you insist on focusing almost exclusively on picking and regrouping music for me...fine, but at least let me see and sort the artists and music I've already picked for myself!!!! <div class=\"review-link\" style=\"display:none\"> <a class=\"id-no-nav play-button tiny\" href=\"#\" target=\"_blank\">Full Review</a> </div> </div> </div> <div class=\"single-review\" tabindex=\"0\"> <span> <span class=\"responsive-img-ldpi\"> <span class=\"responsive-img author-image\" style=\"background-image:url(https://lh5.googleusercontent.com/-W8wy98EjK2g/AAAAAAAAAAI/AAAAAAAAAAA/ACHi3rd2gdsy56iyhLlzBQVgL6ZpKpGarA/w48-h48-p/photo.jpg)\"></span> </span> <span class=\"responsive-img-hdpi\"> <span class=\"responsive-img author-image\" style=\"background-image:url(https://lh5.googleusercontent.com/-W8wy98EjK2g/AAAAAAAAAAI/AAAAAAAAAAA/ACHi3rd2gdsy56iyhLlzBQVgL6ZpKpGarA/w96-h96-p/photo.jpg)\"></span> </span> </span> <div class=\"review-header\" data-expand-target=\"\" data-reviewid=\"gp:AOqpTOHh1Biggg6zW_SIawLjtvJdCW-C9imoYQHSfXyzg_Y24HEu559e1xizL1eYfhrF_DAdLbvUfsa5e3hBQQ\"> <div class=\"review-info\"> <span class=\"author-name\"> Graham Evans </span> <span class=\"review-date\">20 June 2019</span> <a class=\"reviews-permalink\" href=\"/store/apps/details?id=com.spotify.music&amp;reviewId=Z3A6QU9xcFRPSGgxQmlnZ2c2eldfU0lhd0xqdHZKZENXLUM5aW1vWVFIU2ZYeXpnX1kyNEhFdTU1OWUxeGl6TDFlWWZockZfREFkTGJ2VWZzYTVlM2hCUVE\" title=\"Link to this review\"></a> <div class=\"review-source\" style=\"display:none\"></div> <div class=\"review-info-star-rating\"> <div aria-label=\"Rated 1 stars out of five stars\" class=\"tiny-star star-rating-non-editable-container\"> <div class=\"current-rating\" jsname=\"jIIjq\" style=\"width:20%\"></div> </div> </div> </div> <div class=\"rate-review-wrapper\"> <button class=\"play-button icon-button small rate-review\" data-rating=\"SPAM\" title=\"Spam\"> <div class=\"icon spam-flag\"></div> </button> <button class=\"play-button icon-button small rate-review\" data-rating=\"HELPFUL\" title=\"Helpful\"> <div class=\"icon thumbs-up\"></div> </button> <button class=\"play-button icon-button small rate-review\" data-rating=\"UNHELPFUL\" title=\"Unhelpful\"> <div class=\"icon thumbs-down\"></div> </button> </div> </div> <div class=\"review-body with-review-wrapper\"> <span class=\"review-title\"></span> The new update has ruined the app for me. I wouldn't complain about layout changes, but they have got rid of so many functions. Used to be able to look through your downloaded music, and sort it by artist, song or album. Now you can only sort via album and it only shows a randomly ordered list of \"recommended artists\". I dont use the follow function because I want my music available offline. I'm really thinking about switching to another streaming service. Please fix it Spotify! <div class=\"review-link\" style=\"display:none\"> <a class=\"id-no-nav play-button tiny\" href=\"#\" target=\"_blank\">Full Review</a> </div> </div> </div> <div class=\"single-review\" tabindex=\"0\"> <span> <span class=\"responsive-img-ldpi\"> <span class=\"responsive-img author-image\" style=\"background-image:url(https://lh3.googleusercontent.com/a-/AAuE7mBhJePGvfJfb3G8Gy1s4yKIJOqiYQ8mLp61H7_UKA=w48-h48-p)\"></span> </span> <span class=\"responsive-img-hdpi\"> <span class=\"responsive-img author-image\" style=\"background-image:url(https://lh3.googleusercontent.com/a-/AAuE7mBhJePGvfJfb3G8Gy1s4yKIJOqiYQ8mLp61H7_UKA=w96-h96-p)\"></span> </span> </span> <div class=\"review-header\" data-expand-target=\"\" data-reviewid=\"gp:AOqpTOF878cw3M40fzJT6mmwResetA0PajkvhbWmkWZyzUrRO7uicgQOclU4U4AZ2DUEFLbL-C4dU6AH7V7Qwg\"> <div class=\"review-info\"> <span class=\"author-name\"> Stella Loutsou </span> <span class=\"review-date\">22 June 2019</span> <a class=\"reviews-permalink\" href=\"/store/apps/details?id=com.spotify.music&amp;reviewId=Z3A6QU9xcFRPRjg3OGN3M000MGZ6SlQ2bW13UmVzZXRBMFBhamt2aGJXbWtXWnl6VXJSTzd1aWNnUU9jbFU0VTRBWjJEVUVGTGJMLUM0ZFU2QUg3VjdRd2c\" title=\"Link to this review\"></a> <div class=\"review-source\" style=\"display:none\"></div> <div class=\"review-info-star-rating\"> <div aria-label=\"Rated 1 stars out of five stars\" class=\"tiny-star star-rating-non-editable-container\"> <div class=\"current-rating\" jsname=\"jIIjq\" style=\"width:20%\"></div> </div> </div> </div> <div class=\"rate-review-wrapper\"> <button class=\"play-button icon-button small rate-review\" data-rating=\"SPAM\" title=\"Spam\"> <div class=\"icon spam-flag\"></div> </button> <button class=\"play-button icon-button small rate-review\" data-rating=\"HELPFUL\" title=\"Helpful\"> <div class=\"icon thumbs-up\"></div> </button> <button class=\"play-button icon-button small rate-review\" data-rating=\"UNHELPFUL\" title=\"Unhelpful\"> <div class=\"icon thumbs-down\"></div> </button> </div> </div> <div class=\"review-body with-review-wrapper\"> <span class=\"review-title\"></span> The latest update is a mess. I can't download just one or as many songs of an album I want but it only lets me download the entire album. And even if you \"unlike\" something, the download remains. Also, the albums, playlists etc. take too long to open. The recommended artists and albums option is also really inconvenient. Every album and artist should be in a list together as it was. It's all become horrible. This isn't what I'm paying for. Please return to the previous, actually usable version. <div class=\"review-link\" style=\"display:none\"> <a class=\"id-no-nav play-button tiny\" href=\"#\" target=\"_blank\">Full Review</a> </div> </div> </div> <div class=\"single-review\" tabindex=\"0\"> <span> <span class=\"responsive-img-ldpi\"> <span class=\"responsive-img author-image\" style=\"background-image:url(https://lh3.googleusercontent.com/a-/AAuE7mDk1g4rW7EAF7QvIKdkPRJhlzo7PkvTaXAAkc1d=w48-h48-p)\"></span> </span> <span class=\"responsive-img-hdpi\"> <span class=\"responsive-img author-image\" style=\"background-image:url(https://lh3.googleusercontent.com/a-/AAuE7mDk1g4rW7EAF7QvIKdkPRJhlzo7PkvTaXAAkc1d=w96-h96-p)\"></span> </span> </span> <div class=\"review-header\" data-expand-target=\"\" data-reviewid=\"gp:AOqpTOFv6CuGjkeDy2p0Yr7OWQE94viQI_tQIdgrzdAhbDzk2qhqCEK1HWNUe0bc1f4bgXwqQ-hht8ThPUH48g\"> <div class=\"review-info\"> <span class=\"author-name\"> Alexandra Archive </span> <span class=\"review-date\">21 June 2019</span> <a class=\"reviews-permalink\" href=\"/store/apps/details?id=com.spotify.music&amp;reviewId=Z3A6QU9xcFRPRnY2Q3VHamtlRHkycDBZcjdPV1FFOTR2aVFJX3RRSWRncnpkQWhiRHprMnFocUNFSzFIV05VZTBiYzFmNGJnWHdxUS1oaHQ4VGhQVUg0OGc\" title=\"Link to this review\"></a> <div class=\"review-source\" style=\"display:none\"></div> <div class=\"review-info-star-rating\"> <div aria-label=\"Rated 1 stars out of five stars\" class=\"tiny-star star-rating-non-editable-container\"> <div class=\"current-rating\" jsname=\"jIIjq\" style=\"width:20%\"></div> </div> </div> </div> <div class=\"rate-review-wrapper\"> <button class=\"play-button icon-button small rate-review\" data-rating=\"SPAM\" title=\"Spam\"> <div class=\"icon spam-flag\"></div> </button> <button class=\"play-button icon-button small rate-review\" data-rating=\"HELPFUL\" title=\"Helpful\"> <div class=\"icon thumbs-up\"></div> </button> <button class=\"play-button icon-button small rate-review\" data-rating=\"UNHELPFUL\" title=\"Unhelpful\"> <div class=\"icon thumbs-down\"></div> </button> </div> </div> <div class=\"review-body with-review-wrapper\"> <span class=\"review-title\"></span> Really hate the latest updates. You can't remove songs from your library anymore, which is incredibly dumb. This playlist centered update is awful. I don't listen to playlists: I listen to albums, and sometimes there are songs I don't like. It'd be nice if I could delete them. I'm a premium member: I'm leaving this app if they don't fix this. I'd control over my own library, thanks. <div class=\"review-link\" style=\"display:none\"> <a class=\"id-no-nav play-button tiny\" href=\"#\" target=\"_blank\">Full Review</a> </div> </div> </div> <div class=\"single-review\" tabindex=\"0\"> <span> <span class=\"responsive-img-ldpi\"> <span class=\"responsive-img author-image\" style=\"background-image:url(https://lh6.googleusercontent.com/-rKMRVSnRrDw/AAAAAAAAAAI/AAAAAAAAAAA/ACHi3rcNM05JwH8i_lyxnv0YoqDJRc4jIA/w48-h48-p/photo.jpg)\"></span> </span> <span class=\"responsive-img-hdpi\"> <span class=\"responsive-img author-image\" style=\"background-image:url(https://lh6.googleusercontent.com/-rKMRVSnRrDw/AAAAAAAAAAI/AAAAAAAAAAA/ACHi3rcNM05JwH8i_lyxnv0YoqDJRc4jIA/w96-h96-p/photo.jpg)\"></span> </span> </span> <div class=\"review-header\" data-expand-target=\"\" data-reviewid=\"gp:AOqpTOEKaZ0wNDtegiE6JVJjE20XUxeuOvu5xo8UCepQ67FysV5gY0CylWMN5Zg9LZ43moiLfVoNRhXM7ejetw\"> <div class=\"review-info\"> <span class=\"author-name\"> Leigh McNerney </span> <span class=\"review-date\">25 June 2019</span> <a class=\"reviews-permalink\" href=\"/store/apps/details?id=com.spotify.music&amp;reviewId=Z3A6QU9xcFRPRUthWjB3TkR0ZWdpRTZKVkpqRTIwWFV4ZXVPdnU1eG84VUNlcFE2N0Z5c1Y1Z1kwQ3lsV01ONVpnOUxaNDNtb2lMZlZvTlJoWE03ZWpldHc\" title=\"Link to this review\"></a> <div class=\"review-source\" style=\"display:none\"></div> <div class=\"review-info-star-rating\"> <div aria-label=\"Rated 1 stars out of five stars\" class=\"tiny-star star-rating-non-editable-container\"> <div class=\"current-rating\" jsname=\"jIIjq\" style=\"width:20%\"></div> </div> </div> </div> <div class=\"rate-review-wrapper\"> <button class=\"play-button icon-button small rate-review\" data-rating=\"SPAM\" title=\"Spam\"> <div class=\"icon spam-flag\"></div> </button> <button class=\"play-button icon-button small rate-review\" data-rating=\"HELPFUL\" title=\"Helpful\"> <div class=\"icon thumbs-up\"></div> </button> <button class=\"play-button icon-button small rate-review\" data-rating=\"UNHELPFUL\" title=\"Unhelpful\"> <div class=\"icon thumbs-down\"></div> </button> </div> </div> <div class=\"review-body with-review-wrapper\"> <span class=\"review-title\"></span> New look app is terrible. Songs list under a created play list called liked songs. Why would I bother looking for liked songs? I like all the songs I saved, that's why i saved them. Why is there not an option to put the artist list in alphabetical order? Why does the random song button become untoggled EVERY TIME I SELECT A NEW SONG? I'm going to give you to the count of 3 to put it back the way it was. 1...2...3!...right! That's it! I'm going to give darn good thrashing! ...I broke my phone :( <div class=\"review-link\" style=\"display:none\"> <a class=\"id-no-nav play-button tiny\" href=\"#\" target=\"_blank\">Full Review</a> </div> </div> </div> <div class=\"single-review\" tabindex=\"0\"> <span> <span class=\"responsive-img-ldpi\"> <span class=\"responsive-img author-image\" style=\"background-image:url(https://lh3.googleusercontent.com/a-/AAuE7mBF9kAu8X-Zkh1GW-1hJx-D1ub9NStURpxxrzNsKg=w48-h48-p)\"></span> </span> <span class=\"responsive-img-hdpi\"> <span class=\"responsive-img author-image\" style=\"background-image:url(https://lh3.googleusercontent.com/a-/AAuE7mBF9kAu8X-Zkh1GW-1hJx-D1ub9NStURpxxrzNsKg=w96-h96-p)\"></span> </span> </span> <div class=\"review-header\" data-expand-target=\"\" data-reviewid=\"gp:AOqpTOFB9bPC86X63H_RKPL4aFZbLXefTyG1kOe65hM6vXjeoTgPAWu-8vz8uUU34Q3qyKWfcbfs8OXxxMSM0w\"> <div class=\"review-info\"> <span class=\"author-name\"> Akashi Hashimoto </span> <span class=\"review-date\">18 June 2019</span> <a class=\"reviews-permalink\" href=\"/store/apps/details?id=com.spotify.music&amp;reviewId=Z3A6QU9xcFRPRkI5YlBDODZYNjNIX1JLUEw0YUZaYkxYZWZUeUcxa09lNjVoTTZ2WGplb1RnUEFXdS04dno4dVVVMzRRM3F5S1dmY2JmczhPWHh4TVNNMHc\" title=\"Link to this review\"></a> <div class=\"review-source\" style=\"display:none\"></div> <div class=\"review-info-star-rating\"> <div aria-label=\"Rated 1 stars out of five stars\" class=\"tiny-star star-rating-non-editable-container\"> <div class=\"current-rating\" jsname=\"jIIjq\" style=\"width:20%\"></div> </div> </div> </div> <div class=\"rate-review-wrapper\"> <button class=\"play-button icon-button small rate-review\" data-rating=\"SPAM\" title=\"Spam\"> <div class=\"icon spam-flag\"></div> </button> <button class=\"play-button icon-button small rate-review\" data-rating=\"HELPFUL\" title=\"Helpful\"> <div class=\"icon thumbs-up\"></div> </button> <button class=\"play-button icon-button small rate-review\" data-rating=\"UNHELPFUL\" title=\"Unhelpful\"> <div class=\"icon thumbs-down\"></div> </button> </div> </div> <div class=\"review-body with-review-wrapper\"> <span class=\"review-title\"></span> As a premium user I say: throw the whole update away! 1. It's terribly slow and buggy; 2. Some songs I liked/saved don't appear in my library; 3. What do you mean I have to save the whole album to have access to a few songs? Liked songs? 4. The interface is just... No. 5. When you will give Android users the option to block an artist we don't want to listen to? I'm really disappointed. Do better, Spotify. <div class=\"review-link\" style=\"display:none\"> <a class=\"id-no-nav play-button tiny\" href=\"#\" target=\"_blank\">Full Review</a> </div> </div> </div> <div class=\"single-review\" tabindex=\"0\"> <span> <span class=\"responsive-img-ldpi\"> <span class=\"responsive-img author-image\" style=\"background-image:url(https://lh5.googleusercontent.com/--wguPNWuzK4/AAAAAAAAAAI/AAAAAAAAAAA/ACHi3rfFi-z8UXbLShcMEj44mDhbkD92Lw/w48-h48-p/photo.jpg)\"></span> </span> <span class=\"responsive-img-hdpi\"> <span class=\"responsive-img author-image\" style=\"background-image:url(https://lh5.googleusercontent.com/--wguPNWuzK4/AAAAAAAAAAI/AAAAAAAAAAA/ACHi3rfFi-z8UXbLShcMEj44mDhbkD92Lw/w96-h96-p/photo.jpg)\"></span> </span> </span> <div class=\"review-header\" data-expand-target=\"\" data-reviewid=\"gp:AOqpTOHI73HQAMS1iC1k-WBQIZZLqwSuVb_uNTARGHhg4uRY9ntTShvpZA9ZUz8HP-wLqf3DydklQXNfh3qsVg\"> <div class=\"review-info\"> <span class=\"author-name\"> Jake Hendel </span> <span class=\"review-date\">21 June 2019</span> <a class=\"reviews-permalink\" href=\"/store/apps/details?id=com.spotify.music&amp;reviewId=Z3A6QU9xcFRPSEk3M0hRQU1TMWlDMWstV0JRSVpaTHF3U3VWYl91TlRBUkdIaGc0dVJZOW50VFNodnBaQTlaVXo4SFAtd0xxZjNEeWRrbFFYTmZoM3FzVmc\" title=\"Link to this review\"></a> <div class=\"review-source\" style=\"display:none\"></div> <div class=\"review-info-star-rating\"> <div aria-label=\"Rated 2 stars out of five stars\" class=\"tiny-star star-rating-non-editable-container\"> <div class=\"current-rating\" jsname=\"jIIjq\" style=\"width:40%\"></div> </div> </div> </div> <div class=\"rate-review-wrapper\"> <button class=\"play-button icon-button small rate-review\" data-rating=\"SPAM\" title=\"Spam\"> <div class=\"icon spam-flag\"></div> </button> <button class=\"play-button icon-button small rate-review\" data-rating=\"HELPFUL\" title=\"Helpful\"> <div class=\"icon thumbs-up\"></div> </button> <button class=\"play-button icon-button small rate-review\" data-rating=\"UNHELPFUL\" title=\"Unhelpful\"> <div class=\"icon thumbs-down\"></div> </button> </div> </div> <div class=\"review-body with-review-wrapper\"> <span class=\"review-title\"></span> Love the app and service over all, and the student discount is really appreciated. But one suggestion that I think would be amazing if you included in the MOBILE app would be the ability to see what my friends are listening to, just like the desktop version has. Please please add this!! Edit: still nothing relating to this. And you removed stranger things mode! :( <div class=\"review-link\" style=\"display:none\"> <a class=\"id-no-nav play-button tiny\" href=\"#\" target=\"_blank\">Full Review</a> </div> </div> </div> <div class=\"single-review\" tabindex=\"0\"> <span> <span class=\"responsive-img-ldpi\"> <span class=\"responsive-img author-image\" style=\"background-image:url(https://lh5.googleusercontent.com/-56KHOSuBLDE/AAAAAAAAAAI/AAAAAAAAAAA/ACHi3rfksEzIRpIMy4rbUzMpmkWaMcd5jw/w48-h48-p/photo.jpg)\"></span> </span> <span class=\"responsive-img-hdpi\"> <span class=\"responsive-img author-image\" style=\"background-image:url(https://lh5.googleusercontent.com/-56KHOSuBLDE/AAAAAAAAAAI/AAAAAAAAAAA/ACHi3rfksEzIRpIMy4rbUzMpmkWaMcd5jw/w96-h96-p/photo.jpg)\"></span> </span> </span> <div class=\"review-header\" data-expand-target=\"\" data-reviewid=\"gp:AOqpTOHcrWmcEOzzNTnO6ijLzlmS607yHYeWNx1H3N00kqN--KVaGRxtcrDrg2NGb-Wz51T7TkLDPNgBQFOVEA\"> <div class=\"review-info\"> <span class=\"author-name\"> J M </span> <span class=\"review-date\">25 June 2019</span> <a class=\"reviews-permalink\" href=\"/store/apps/details?id=com.spotify.music&amp;reviewId=Z3A6QU9xcFRPSGNyV21jRU96ek5Ubk82aWpMemxtUzYwN3lIWWVXTngxSDNOMDBrcU4tLUtWYUdSeHRjckRyZzJOR2ItV3o1MVQ3VGtMRFBOZ0JRRk9WRUE\" title=\"Link to this review\"></a> <div class=\"review-source\" style=\"display:none\"></div> <div class=\"review-info-star-rating\"> <div aria-label=\"Rated 1 stars out of five stars\" class=\"tiny-star star-rating-non-editable-container\"> <div class=\"current-rating\" jsname=\"jIIjq\" style=\"width:20%\"></div> </div> </div> </div> <div class=\"rate-review-wrapper\"> <button class=\"play-button icon-button small rate-review\" data-rating=\"SPAM\" title=\"Spam\"> <div class=\"icon spam-flag\"></div> </button> <button class=\"play-button icon-button small rate-review\" data-rating=\"HELPFUL\" title=\"Helpful\"> <div class=\"icon thumbs-up\"></div> </button> <button class=\"play-button icon-button small rate-review\" data-rating=\"UNHELPFUL\" title=\"Unhelpful\"> <div class=\"icon thumbs-down\"></div> </button> </div> </div> <div class=\"review-body with-review-wrapper\"> <span class=\"review-title\"></span> can you stop ruining it???? You're only allowing the followed artists to be seen in the library. What's the point of having a list of artists and saved music? When I click on the artist, I want to see the music that I have saved, not to be taken to their main page. And what is the point of putting all my saved/liked music in 1 playlist?!?! <div class=\"review-link\" style=\"display:none\"> <a class=\"id-no-nav play-button tiny\" href=\"#\" target=\"_blank\">Full Review</a> </div> </div> </div> <div class=\"single-review\" tabindex=\"0\"> <span> <span class=\"responsive-img-ldpi\"> <span class=\"responsive-img author-image\" style=\"background-image:url(https://lh3.googleusercontent.com/a-/AAuE7mBxY3Xr2qxXpaGQ4a40P4YC5496KWA86O08MeIg3Q=w48-h48-p)\"></span> </span> <span class=\"responsive-img-hdpi\"> <span class=\"responsive-img author-image\" style=\"background-image:url(https://lh3.googleusercontent.com/a-/AAuE7mBxY3Xr2qxXpaGQ4a40P4YC5496KWA86O08MeIg3Q=w96-h96-p)\"></span> </span> </span> <div class=\"review-header\" data-expand-target=\"\" data-reviewid=\"gp:AOqpTOHbmoDFiqVaZRq-PNVx_snLmI1QjPEHjhNin4MAuZy9EVKSjbTzZhKuve0asjd06gOLeqKDIvJhxaUNXw\"> <div class=\"review-info\"> <span class=\"author-name\"> xtacoxfacex USA </span> <span class=\"review-date\">19 June 2019</span> <a class=\"reviews-permalink\" href=\"/store/apps/details?id=com.spotify.music&amp;reviewId=Z3A6QU9xcFRPSGJtb0RGaXFWYVpScS1QTlZ4X3NuTG1JMVFqUEVIamhOaW40TUF1Wnk5RVZLU2piVHpaaEt1dmUwYXNqZDA2Z09MZXFLREl2Smh4YVVOWHc\" title=\"Link to this review\"></a> <div class=\"review-source\" style=\"display:none\"></div> <div class=\"review-info-star-rating\"> <div aria-label=\"Rated 1 stars out of five stars\" class=\"tiny-star star-rating-non-editable-container\"> <div class=\"current-rating\" jsname=\"jIIjq\" style=\"width:20%\"></div> </div> </div> </div> <div class=\"rate-review-wrapper\"> <button class=\"play-button icon-button small rate-review\" data-rating=\"SPAM\" title=\"Spam\"> <div class=\"icon spam-flag\"></div> </button> <button class=\"play-button icon-button small rate-review\" data-rating=\"HELPFUL\" title=\"Helpful\"> <div class=\"icon thumbs-up\"></div> </button> <button class=\"play-button icon-button small rate-review\" data-rating=\"UNHELPFUL\" title=\"Unhelpful\"> <div class=\"icon thumbs-down\"></div> </button> </div> </div> <div class=\"review-body with-review-wrapper\"> <span class=\"review-title\"></span> I swear every update is 1 step forward, 2 steps back. Everytime Spotify tries to be more user friendly, it comes with a myriad of other issues. It's almost as though when they have a decent update that doesn't mess up as much, they go OUT OF THEIR WAY to screw it up. Everything's fine otherwise but these horrendous updates need to stop, seriously. <div class=\"review-link\" style=\"display:none\"> <a class=\"id-no-nav play-button tiny\" href=\"#\" target=\"_blank\">Full Review</a> </div> </div> </div> <div class=\"single-review\" tabindex=\"0\"> <span> <span class=\"responsive-img-ldpi\"> <span class=\"responsive-img author-image\" style=\"background-image:url(https://lh3.googleusercontent.com/EGemoI2NTXmTsBVtJqk8jxF9rh8ApRWfsIMQSt2uE4OcpQqbFu7f7NbTK05lx80nuSijCz7sc3a277R67g=w48-h48-p)\"></span> </span> <span class=\"responsive-img-hdpi\"> <span class=\"responsive-img author-image\" style=\"background-image:url(https://lh3.googleusercontent.com/EGemoI2NTXmTsBVtJqk8jxF9rh8ApRWfsIMQSt2uE4OcpQqbFu7f7NbTK05lx80nuSijCz7sc3a277R67g=w96-h96-p)\"></span> </span> </span> <div class=\"review-header\" data-expand-target=\"\" data-reviewid=\"gp:AOqpTOGyKRinEbr-tbaGofc-nxBIXyzohkLS9qznKDTLSI5WxqGri9o9i7cvp5MH-3RsQBClzBxLacVmygpMeQ\"> <div class=\"review-info\"> <span class=\"author-name\"> A Google User </span> <span class=\"review-date\">20 June 2019</span> <a class=\"reviews-permalink\" href=\"/store/apps/details?id=com.spotify.music&amp;reviewId=Z3A6QU9xcFRPR3lLUmluRWJyLXRiYUdvZmMtbnhCSVh5em9oa0xTOXF6bktEVExTSTVXeHFHcmk5bzlpN2N2cDVNSC0zUnNRQkNsekJ4TGFjVm15Z3BNZVE\" title=\"Link to this review\"></a> <div class=\"review-source\" style=\"display:none\"></div> <div class=\"review-info-star-rating\"> <div aria-label=\"Rated 1 stars out of five stars\" class=\"tiny-star star-rating-non-editable-container\"> <div class=\"current-rating\" jsname=\"jIIjq\" style=\"width:20%\"></div> </div> </div> </div> <div class=\"rate-review-wrapper\"> <button class=\"play-button icon-button small rate-review\" data-rating=\"SPAM\" title=\"Spam\"> <div class=\"icon spam-flag\"></div> </button> <button class=\"play-button icon-button small rate-review\" data-rating=\"HELPFUL\" title=\"Helpful\"> <div class=\"icon thumbs-up\"></div> </button> <button class=\"play-button icon-button small rate-review\" data-rating=\"UNHELPFUL\" title=\"Unhelpful\"> <div class=\"icon thumbs-down\"></div> </button> </div> </div> <div class=\"review-body with-review-wrapper\"> <span class=\"review-title\"></span> Man, this was such a good app until you guys updated it last month. Seriously, what did you guys do and why? Suddenly my disk is too full, my artists won't load, the whole thing crashes when I try to play a song, I have to check out my saved songs in a playlist now??? Massive step backwards. Seriously considering going elsewhere if you don't get this fixed <div class=\"review-link\" style=\"display:none\"> <a class=\"id-no-nav play-button tiny\" href=\"#\" target=\"_blank\">Full Review</a> </div> </div> </div> <div class=\"single-review\" tabindex=\"0\"> <span> <span class=\"responsive-img-ldpi\"> <span class=\"responsive-img author-image\" style=\"background-image:url(https://lh6.googleusercontent.com/-MV5fKpiAhhM/AAAAAAAAAAI/AAAAAAAAAAA/ACHi3rf0l0nP5Y6XFm4bDf34hAAc4ucfow/w48-h48-p/photo.jpg)\"></span> </span> <span class=\"responsive-img-hdpi\"> <span class=\"responsive-img author-image\" style=\"background-image:url(https://lh6.googleusercontent.com/-MV5fKpiAhhM/AAAAAAAAAAI/AAAAAAAAAAA/ACHi3rf0l0nP5Y6XFm4bDf34hAAc4ucfow/w96-h96-p/photo.jpg)\"></span> </span> </span> <div class=\"review-header\" data-expand-target=\"\" data-reviewid=\"gp:AOqpTOHOD-OupX7ik7O6Gz_XdC4gGlM9Alov98_2FP-qBRJwBM2zUF20JgnBtHITbozUcO19tKIHngdKgmksHQ\"> <div class=\"review-info\"> <span class=\"author-name\"> Russell Dilnot </span> <span class=\"review-date\">17 June 2019</span> <a class=\"reviews-permalink\" href=\"/store/apps/details?id=com.spotify.music&amp;reviewId=Z3A6QU9xcFRPSE9ELU91cFg3aWs3TzZHel9YZEM0Z0dsTTlBbG92OThfMkZQLXFCUkp3Qk0yelVGMjBKZ25CdEhJVGJvelVjTzE5dEtJSG5nZEtnbWtzSFE\" title=\"Link to this review\"></a> <div class=\"review-source\" style=\"display:none\"></div> <div class=\"review-info-star-rating\"> <div aria-label=\"Rated 1 stars out of five stars\" class=\"tiny-star star-rating-non-editable-container\"> <div class=\"current-rating\" jsname=\"jIIjq\" style=\"width:20%\"></div> </div> </div> </div> <div class=\"rate-review-wrapper\"> <button class=\"play-button icon-button small rate-review\" data-rating=\"SPAM\" title=\"Spam\"> <div class=\"icon spam-flag\"></div> </button> <button class=\"play-button icon-button small rate-review\" data-rating=\"HELPFUL\" title=\"Helpful\"> <div class=\"icon thumbs-up\"></div> </button> <button class=\"play-button icon-button small rate-review\" data-rating=\"UNHELPFUL\" title=\"Unhelpful\"> <div class=\"icon thumbs-down\"></div> </button> </div> </div> <div class=\"review-body with-review-wrapper\"> <span class=\"review-title\"></span> Loved Spotify until this June 19 update, now it is useless. I've been a premium user for years and in one fell swoop I have been robbed of my freedom of choice to listen to an album the way I want to, with or without certain songs. I have spent a long time sifting through albums and picking out songs I like only to find all my hard work was in vein. Now I am stuck with full albums, with the added frustration of having to skip tracks. I'm fuming!! Will probably leave unless rectified ASAP. <div class=\"review-link\" style=\"display:none\"> <a class=\"id-no-nav play-button tiny\" href=\"#\" target=\"_blank\">Full Review</a> </div> </div> </div> <div class=\"single-review\" tabindex=\"0\"> <span> <span class=\"responsive-img-ldpi\"> <span class=\"responsive-img author-image\" style=\"background-image:url(https://lh3.googleusercontent.com/a-/AAuE7mDc7wggtdvvLlSzmYsQ2APs1Yg_RwNH6HjxZlY2=w48-h48-p)\"></span> </span> <span class=\"responsive-img-hdpi\"> <span class=\"responsive-img author-image\" style=\"background-image:url(https://lh3.googleusercontent.com/a-/AAuE7mDc7wggtdvvLlSzmYsQ2APs1Yg_RwNH6HjxZlY2=w96-h96-p)\"></span> </span> </span> <div class=\"review-header\" data-expand-target=\"\" data-reviewid=\"gp:AOqpTOEFeKd7mmYgOH47zfdhlhzBtZH7xMLc9p7GYh9zz3kJewZti2RyGXCiQX7NeojjA5Ck4RX-TpnWb5lnhg\"> <div class=\"review-info\"> <span class=\"author-name\"> JVD </span> <span class=\"review-date\">22 June 2019</span> <a class=\"reviews-permalink\" href=\"/store/apps/details?id=com.spotify.music&amp;reviewId=Z3A6QU9xcFRPRUZlS2Q3bW1ZZ09INDd6ZmRobGh6QnRaSDd4TUxjOXA3R1loOXp6M2tKZXdadGkyUnlHWENpUVg3TmVvampBNUNrNFJYLVRwbldiNWxuaGc\" title=\"Link to this review\"></a> <div class=\"review-source\" style=\"display:none\"></div> <div class=\"review-info-star-rating\"> <div aria-label=\"Rated 1 stars out of five stars\" class=\"tiny-star star-rating-non-editable-container\"> <div class=\"current-rating\" jsname=\"jIIjq\" style=\"width:20%\"></div> </div> </div> </div> <div class=\"rate-review-wrapper\"> <button class=\"play-button icon-button small rate-review\" data-rating=\"SPAM\" title=\"Spam\"> <div class=\"icon spam-flag\"></div> </button> <button class=\"play-button icon-button small rate-review\" data-rating=\"HELPFUL\" title=\"Helpful\"> <div class=\"icon thumbs-up\"></div> </button> <button class=\"play-button icon-button small rate-review\" data-rating=\"UNHELPFUL\" title=\"Unhelpful\"> <div class=\"icon thumbs-down\"></div> </button> </div> </div> <div class=\"review-body with-review-wrapper\"> <span class=\"review-title\"></span> The new update is absolutely atrocious. They've hidden a bunch of features and eliminated some entirely. The UI is the most unintuitive version they've had since inception. Additionally, on numerous occasions, I've had music stop or start playing for no reason. Lastly, they've somehow made the app run slower than before??? It takes like 5 seconds for each menu to load. I'm still flabbergasted at how bad this \"update\" really is. Simple solution is to go back to the previous version. <div class=\"review-link\" style=\"display:none\"> <a class=\"id-no-nav play-button tiny\" href=\"#\" target=\"_blank\">Full Review</a> </div> </div> </div> <div class=\"single-review\" tabindex=\"0\"> <span> <span class=\"responsive-img-ldpi\"> <span class=\"responsive-img author-image\" style=\"background-image:url(https://lh4.googleusercontent.com/-gSPvUJ64TgE/AAAAAAAAAAI/AAAAAAAAAAA/ACHi3rcBKCEpw9n6M4MDBFb0PNljOEvSjQ/w48-h48-p/photo.jpg)\"></span> </span> <span class=\"responsive-img-hdpi\"> <span class=\"responsive-img author-image\" style=\"background-image:url(https://lh4.googleusercontent.com/-gSPvUJ64TgE/AAAAAAAAAAI/AAAAAAAAAAA/ACHi3rcBKCEpw9n6M4MDBFb0PNljOEvSjQ/w96-h96-p/photo.jpg)\"></span> </span> </span> <div class=\"review-header\" data-expand-target=\"\" data-reviewid=\"gp:AOqpTOFiJ9yBJbyi8ObfzN6GyWrqsz4Kw__yBm9Osa-ikfeQlK0CcM249xKUOSXWyOHc5jC1Rl4dHVzO2VrgQA\"> <div class=\"review-info\"> <span class=\"author-name\"> Robbie Viera </span> <span class=\"review-date\">24 June 2019</span> <a class=\"reviews-permalink\" href=\"/store/apps/details?id=com.spotify.music&amp;reviewId=Z3A6QU9xcFRPRmlKOXlCSmJ5aThPYmZ6TjZHeVdycXN6NEt3X195Qm05T3NhLWlrZmVRbEswQ2NNMjQ5eEtVT1NYV3lPSGM1akMxUmw0ZEhWek8yVnJnUUE\" title=\"Link to this review\"></a> <div class=\"review-source\" style=\"display:none\"></div> <div class=\"review-info-star-rating\"> <div aria-label=\"Rated 1 stars out of five stars\" class=\"tiny-star star-rating-non-editable-container\"> <div class=\"current-rating\" jsname=\"jIIjq\" style=\"width:20%\"></div> </div> </div> </div> <div class=\"rate-review-wrapper\"> <button class=\"play-button icon-button small rate-review\" data-rating=\"SPAM\" title=\"Spam\"> <div class=\"icon spam-flag\"></div> </button> <button class=\"play-button icon-button small rate-review\" data-rating=\"HELPFUL\" title=\"Helpful\"> <div class=\"icon thumbs-up\"></div> </button> <button class=\"play-button icon-button small rate-review\" data-rating=\"UNHELPFUL\" title=\"Unhelpful\"> <div class=\"icon thumbs-down\"></div> </button> </div> </div> <div class=\"review-body with-review-wrapper\"> <span class=\"review-title\"></span> this update is garbage. what is the point? who is this for? its without a doubt slower and less intuitive. I click on an album or artist in my library, and every single time I wait a good 4 seconds staring at a black background until it finally shows up. no recently played music in sight. it's set up in some weird playlist style format. it totally sucks. dude, I pay 15 dollars a month for this app to run properly. make it work the way it was JUST working before this unnecessary update <div class=\"review-link\" style=\"display:none\"> <a class=\"id-no-nav play-button tiny\" href=\"#\" target=\"_blank\">Full Review</a> </div> </div> </div> <div class=\"single-review\" tabindex=\"0\"> <span> <span class=\"responsive-img-ldpi\"> <span class=\"responsive-img author-image\" style=\"background-image:url(https://lh3.googleusercontent.com/a-/AAuE7mAbcbJya6TCZDdc4XEA4fU-a1627z2DESD3v7Rrcg=w48-h48-p)\"></span> </span> <span class=\"responsive-img-hdpi\"> <span class=\"responsive-img author-image\" style=\"background-image:url(https://lh3.googleusercontent.com/a-/AAuE7mAbcbJya6TCZDdc4XEA4fU-a1627z2DESD3v7Rrcg=w96-h96-p)\"></span> </span> </span> <div class=\"review-header\" data-expand-target=\"\" data-reviewid=\"gp:AOqpTOEsPyyWvD068qIPrzMYsTi_0kwkqWnOPmJpgInHyau8YVVhwjFhTMcrjQVQjv47LDMLWKnbzLM-3FouNA\"> <div class=\"review-info\"> <span class=\"author-name\"> Amber Borland </span> <span class=\"review-date\">14 June 2019</span> <a class=\"reviews-permalink\" href=\"/store/apps/details?id=com.spotify.music&amp;reviewId=Z3A6QU9xcFRPRXNQeXlXdkQwNjhxSVByek1Zc1RpXzBrd2txV25PUG1KcGdJbkh5YXU4WVZWaHdqRmhUTWNyalFWUWp2NDdMRE1MV0tuYnpMTS0zRm91TkE\" title=\"Link to this review\"></a> <div class=\"review-source\" style=\"display:none\"></div> <div class=\"review-info-star-rating\"> <div aria-label=\"Rated 2 stars out of five stars\" class=\"tiny-star star-rating-non-editable-container\"> <div class=\"current-rating\" jsname=\"jIIjq\" style=\"width:40%\"></div> </div> </div> </div> <div class=\"rate-review-wrapper\"> <button class=\"play-button icon-button small rate-review\" data-rating=\"SPAM\" title=\"Spam\"> <div class=\"icon spam-flag\"></div> </button> <button class=\"play-button icon-button small rate-review\" data-rating=\"HELPFUL\" title=\"Helpful\"> <div class=\"icon thumbs-up\"></div> </button> <button class=\"play-button icon-button small rate-review\" data-rating=\"UNHELPFUL\" title=\"Unhelpful\"> <div class=\"icon thumbs-down\"></div> </button> </div> </div> <div class=\"review-body with-review-wrapper\"> <span class=\"review-title\"></span> I really don't like this new update, the design is too oversimplified, which has made it less user-friendly. I had to Google how to find my downloaded music, which is ridiculous. I can understand separating the music and podcast sections, but why not keep the options that were available before &amp; just categorize them under music or podcasts. This update really reminds me of the terribleness of windows 8. I like this app enough to pay for it, but this oversimplification has just made it worse. <div class=\"review-link\" style=\"display:none\"> <a class=\"id-no-nav play-button tiny\" href=\"#\" target=\"_blank\">Full Review</a> </div> </div> </div> <div class=\"single-review\" tabindex=\"0\"> <span> <span class=\"responsive-img-ldpi\"> <span class=\"responsive-img author-image\" style=\"background-image:url(https://lh3.googleusercontent.com/a-/AAuE7mCLFE-AGjrILxaqzYCcQTRqXjRZsGrVB75yIPI1jQ=w48-h48-p)\"></span> </span> <span class=\"responsive-img-hdpi\"> <span class=\"responsive-img author-image\" style=\"background-image:url(https://lh3.googleusercontent.com/a-/AAuE7mCLFE-AGjrILxaqzYCcQTRqXjRZsGrVB75yIPI1jQ=w96-h96-p)\"></span> </span> </span> <div class=\"review-header\" data-expand-target=\"\" data-reviewid=\"gp:AOqpTOGJk1GMCp__MZUojuG4AkoxQlw-muzS3jVXNNfr5HPhxq8MUt7pbJY1YxSx0vgvQCg6-n_1lrPWpCC3pg\"> <div class=\"review-info\"> <span class=\"author-name\"> Merlin Adam Siervo </span> <span class=\"review-date\">18 June 2019</span> <a class=\"reviews-permalink\" href=\"/store/apps/details?id=com.spotify.music&amp;reviewId=Z3A6QU9xcFRPR0prMUdNQ3BfX01aVW9qdUc0QWtveFFsdy1tdXpTM2pWWE5OZnI1SFBoeHE4TVV0N3BiSlkxWXhTeDB2Z3ZRQ2c2LW5fMWxyUFdwQ0MzcGc\" title=\"Link to this review\"></a> <div class=\"review-source\" style=\"display:none\"></div> <div class=\"review-info-star-rating\"> <div aria-label=\"Rated 1 stars out of five stars\" class=\"tiny-star star-rating-non-editable-container\"> <div class=\"current-rating\" jsname=\"jIIjq\" style=\"width:20%\"></div> </div> </div> </div> <div class=\"rate-review-wrapper\"> <button class=\"play-button icon-button small rate-review\" data-rating=\"SPAM\" title=\"Spam\"> <div class=\"icon spam-flag\"></div> </button> <button class=\"play-button icon-button small rate-review\" data-rating=\"HELPFUL\" title=\"Helpful\"> <div class=\"icon thumbs-up\"></div> </button> <button class=\"play-button icon-button small rate-review\" data-rating=\"UNHELPFUL\" title=\"Unhelpful\"> <div class=\"icon thumbs-down\"></div> </button> </div> </div> <div class=\"review-body with-review-wrapper\"> <span class=\"review-title\"></span> Premium subscriber here. Please listen to your users. The recent updates on the app aren't that user friendly. We just want to be able to pick songs from our downloads. I wish the team would fix this problem. Saving, downloading, looking for, and listening to our favourite songs has become an inconvenience and that's unfortunate. You might lose a big percentage of your premium subs. <div class=\"review-link\" style=\"display:none\"> <a class=\"id-no-nav play-button tiny\" href=\"#\" target=\"_blank\">Full Review</a> </div> </div> </div> <div class=\"single-review\" tabindex=\"0\"> <span> <span class=\"responsive-img-ldpi\"> <span class=\"responsive-img author-image\" style=\"background-image:url(https://lh4.googleusercontent.com/-Y-avFY5ifmc/AAAAAAAAAAI/AAAAAAAAAAA/ACHi3rcFGIjDc6sY51-GsmzX1dYKkWPrqw/w48-h48-p/photo.jpg)\"></span> </span> <span class=\"responsive-img-hdpi\"> <span class=\"responsive-img author-image\" style=\"background-image:url(https://lh4.googleusercontent.com/-Y-avFY5ifmc/AAAAAAAAAAI/AAAAAAAAAAA/ACHi3rcFGIjDc6sY51-GsmzX1dYKkWPrqw/w96-h96-p/photo.jpg)\"></span> </span> </span> <div class=\"review-header\" data-expand-target=\"\" data-reviewid=\"gp:AOqpTOE9KbhXRdlcT15x5D-y_Tx4EHs1N5DkPJwH6vBRhd3q4suBMAuMTtCKPaFxWCPSoNF31G5DnCDhLu-eNg\"> <div class=\"review-info\"> <span class=\"author-name\"> Gyula Petri </span> <span class=\"review-date\">21 June 2019</span> <a class=\"reviews-permalink\" href=\"/store/apps/details?id=com.spotify.music&amp;reviewId=Z3A6QU9xcFRPRTlLYmhYUmRsY1QxNXg1RC15X1R4NEVIczFONURrUEp3SDZ2QlJoZDNxNHN1Qk1BdU1UdENLUGFGeFdDUFNvTkYzMUc1RG5DRGhMdS1lTmc\" title=\"Link to this review\"></a> <div class=\"review-source\" style=\"display:none\"></div> <div class=\"review-info-star-rating\"> <div aria-label=\"Rated 1 stars out of five stars\" class=\"tiny-star star-rating-non-editable-container\"> <div class=\"current-rating\" jsname=\"jIIjq\" style=\"width:20%\"></div> </div> </div> </div> <div class=\"rate-review-wrapper\"> <button class=\"play-button icon-button small rate-review\" data-rating=\"SPAM\" title=\"Spam\"> <div class=\"icon spam-flag\"></div> </button> <button class=\"play-button icon-button small rate-review\" data-rating=\"HELPFUL\" title=\"Helpful\"> <div class=\"icon thumbs-up\"></div> </button> <button class=\"play-button icon-button small rate-review\" data-rating=\"UNHELPFUL\" title=\"Unhelpful\"> <div class=\"icon thumbs-down\"></div> </button> </div> </div> <div class=\"review-body with-review-wrapper\"> <span class=\"review-title\"></span> The new look is terrible. Especially on the page of \"your library\". For example: there is an album, in that I like just 2 songs, but in the full album are 15 songs. I want JUST these 2 songs to like. I can'tdo it from now, because I have to save the full album, it does not allow to me, to download, and to save just these 2 song, like before the new update. Please give us the old look and method of \"your library\". PLEASE! If I pay for this so I want to use, that I really like, not that I HATE! <div class=\"review-link\" style=\"display:none\"> <a class=\"id-no-nav play-button tiny\" href=\"#\" target=\"_blank\">Full Review</a> </div> </div> </div> <div class=\"single-review\" tabindex=\"0\"> <span> <span class=\"responsive-img-ldpi\"> <span class=\"responsive-img author-image\" style=\"background-image:url(https://lh3.googleusercontent.com/a-/AAuE7mDSTblQpWpbpt3AI3b4l-veCB05NapCqH8pjmSIqg=w48-h48-p)\"></span> </span> <span class=\"responsive-img-hdpi\"> <span class=\"responsive-img author-image\" style=\"background-image:url(https://lh3.googleusercontent.com/a-/AAuE7mDSTblQpWpbpt3AI3b4l-veCB05NapCqH8pjmSIqg=w96-h96-p)\"></span> </span> </span> <div class=\"review-header\" data-expand-target=\"\" data-reviewid=\"gp:AOqpTOGpg-JVtJSd8YhJfmYvCpQEf-0SpBuwUfMIdSDjWiyOLi98qebWsMX-zbIrJqTLh8LG1_Z4CmMhKq8wtQ\"> <div class=\"review-info\"> <span class=\"author-name\"> Addison Hellier </span> <span class=\"review-date\">20 June 2019</span> <a class=\"reviews-permalink\" href=\"/store/apps/details?id=com.spotify.music&amp;reviewId=Z3A6QU9xcFRPR3BnLUpWdEpTZDhZaEpmbVl2Q3BRRWYtMFNwQnV3VWZNSWRTRGpXaXlPTGk5OHFlYldzTVgtemJJckpxVExoOExHMV9aNENtTWhLcTh3dFE\" title=\"Link to this review\"></a> <div class=\"review-source\" style=\"display:none\"></div> <div class=\"review-info-star-rating\"> <div aria-label=\"Rated 1 stars out of five stars\" class=\"tiny-star star-rating-non-editable-container\"> <div class=\"current-rating\" jsname=\"jIIjq\" style=\"width:20%\"></div> </div> </div> </div> <div class=\"rate-review-wrapper\"> <button class=\"play-button icon-button small rate-review\" data-rating=\"SPAM\" title=\"Spam\"> <div class=\"icon spam-flag\"></div> </button> <button class=\"play-button icon-button small rate-review\" data-rating=\"HELPFUL\" title=\"Helpful\"> <div class=\"icon thumbs-up\"></div> </button> <button class=\"play-button icon-button small rate-review\" data-rating=\"UNHELPFUL\" title=\"Unhelpful\"> <div class=\"icon thumbs-down\"></div> </button> </div> </div> <div class=\"review-body with-review-wrapper\"> <span class=\"review-title\"></span> The latest update (June 20th, 2019) has rearranged my premium library and I am no longer able to simply shuffle my whole \"Songs\" library. It now recommends artists and albums that I've had downloaded for years. As someone who doesn't see the need for playlist-only listening, this has been a significant downgrade. I feel like Spotify tried to fix something that wasn't broken, and has suffered in usability for it. <div class=\"review-link\" style=\"display:none\"> <a class=\"id-no-nav play-button tiny\" href=\"#\" target=\"_blank\">Full Review</a> </div> </div> </div> <div class=\"single-review\" tabindex=\"0\"> <span> <span class=\"responsive-img-ldpi\"> <span class=\"responsive-img author-image\" style=\"background-image:url(https://lh6.googleusercontent.com/-evh_o7J75j0/AAAAAAAAAAI/AAAAAAAAAAA/ACHi3rdGw5pnyqW1cDzcz8fCNyoAootlZQ/w48-h48-p/photo.jpg)\"></span> </span> <span class=\"responsive-img-hdpi\"> <span class=\"responsive-img author-image\" style=\"background-image:url(https://lh6.googleusercontent.com/-evh_o7J75j0/AAAAAAAAAAI/AAAAAAAAAAA/ACHi3rdGw5pnyqW1cDzcz8fCNyoAootlZQ/w96-h96-p/photo.jpg)\"></span> </span> </span> <div class=\"review-header\" data-expand-target=\"\" data-reviewid=\"gp:AOqpTOFrgIfW9G1d8VQ6vw6AsaDLTnli8R8_cSN6SJleu-PDnw7TRGzc8x3WdHx3YEautns6RUqc95oS6iMiRg\"> <div class=\"review-info\"> <span class=\"author-name\"> Steve Ohm </span> <span class=\"review-date\">22 June 2019</span> <a class=\"reviews-permalink\" href=\"/store/apps/details?id=com.spotify.music&amp;reviewId=Z3A6QU9xcFRPRnJnSWZXOUcxZDhWUTZ2dzZBc2FETFRubGk4UjhfY1NONlNKbGV1LVBEbnc3VFJHemM4eDNXZEh4M1lFYXV0bnM2UlVxYzk1b1M2aU1pUmc\" title=\"Link to this review\"></a> <div class=\"review-source\" style=\"display:none\"></div> <div class=\"review-info-star-rating\"> <div aria-label=\"Rated 2 stars out of five stars\" class=\"tiny-star star-rating-non-editable-container\"> <div class=\"current-rating\" jsname=\"jIIjq\" style=\"width:40%\"></div> </div> </div> </div> <div class=\"rate-review-wrapper\"> <button class=\"play-button icon-button small rate-review\" data-rating=\"SPAM\" title=\"Spam\"> <div class=\"icon spam-flag\"></div> </button> <button class=\"play-button icon-button small rate-review\" data-rating=\"HELPFUL\" title=\"Helpful\"> <div class=\"icon thumbs-up\"></div> </button> <button class=\"play-button icon-button small rate-review\" data-rating=\"UNHELPFUL\" title=\"Unhelpful\"> <div class=\"icon thumbs-down\"></div> </button> </div> </div> <div class=\"review-body with-review-wrapper\"> <span class=\"review-title\"></span> I've used Spotify for years and been satisfied, but this recent update has taken away much of the functionality of the library page. Instead of an alphabetical list of artists of the music you've saved, you're now stuck with a random ordering of playlists or an unordered list of the artists you've specifically \"followed.\" The new library is very playlist-centric, which is terrible if you don't like to bother with creating playlists and/or prefer to listen to whole albums. <div class=\"review-link\" style=\"display:none\"> <a class=\"id-no-nav play-button tiny\" href=\"#\" target=\"_blank\">Full Review</a> </div> </div> </div> <div class=\"single-review\" tabindex=\"0\"> <span> <span class=\"responsive-img-ldpi\"> <span class=\"responsive-img author-image\" style=\"background-image:url(https://lh5.googleusercontent.com/-e2SLCc2gZFw/AAAAAAAAAAI/AAAAAAAAAAA/ACHi3rejjJo1Trrv4JqDj0dxWRjEzVJxjg/w48-h48-p/photo.jpg)\"></span> </span> <span class=\"responsive-img-hdpi\"> <span class=\"responsive-img author-image\" style=\"background-image:url(https://lh5.googleusercontent.com/-e2SLCc2gZFw/AAAAAAAAAAI/AAAAAAAAAAA/ACHi3rejjJo1Trrv4JqDj0dxWRjEzVJxjg/w96-h96-p/photo.jpg)\"></span> </span> </span> <div class=\"review-header\" data-expand-target=\"\" data-reviewid=\"gp:AOqpTOHzVNdtKHddPRa0r1D7OenndhitsKbDejHXWIOT0hPWoDtZNOCrP3GDY7s5YIOlVZZkdj9RtanRGe7llA\"> <div class=\"review-info\"> <span class=\"author-name\"> Lee Jackson </span> <span class=\"review-date\">21 June 2019</span> <a class=\"reviews-permalink\" href=\"/store/apps/details?id=com.spotify.music&amp;reviewId=Z3A6QU9xcFRPSHpWTmR0S0hkZFBSYTByMUQ3T2VubmRoaXRzS2JEZWpIWFdJT1QwaFBXb0R0Wk5PQ3JQM0dEWTdzNVlJT2xWWlprZGo5UnRhblJHZTdsbEE\" title=\"Link to this review\"></a> <div class=\"review-source\" style=\"display:none\"></div> <div class=\"review-info-star-rating\"> <div aria-label=\"Rated 1 stars out of five stars\" class=\"tiny-star star-rating-non-editable-container\"> <div class=\"current-rating\" jsname=\"jIIjq\" style=\"width:20%\"></div> </div> </div> </div> <div class=\"rate-review-wrapper\"> <button class=\"play-button icon-button small rate-review\" data-rating=\"SPAM\" title=\"Spam\"> <div class=\"icon spam-flag\"></div> </button> <button class=\"play-button icon-button small rate-review\" data-rating=\"HELPFUL\" title=\"Helpful\"> <div class=\"icon thumbs-up\"></div> </button> <button class=\"play-button icon-button small rate-review\" data-rating=\"UNHELPFUL\" title=\"Unhelpful\"> <div class=\"icon thumbs-down\"></div> </button> </div> </div> <div class=\"review-body with-review-wrapper\"> <span class=\"review-title\"></span> Before the June 11, 2019 update, Spotify was the unparalleled best music streaming service. It was perfect for finding new music and browsing your own saved music in a library. Now, however, the new functionality has ruined it. All the songs that used to be easily accessible in my library are now in one huge playlist that is nigh impossible to browse. I have been paying for Premium for years, but I think this is the last straw and I plan to cancel. <div class=\"review-link\" style=\"display:none\"> <a class=\"id-no-nav play-button tiny\" href=\"#\" target=\"_blank\">Full Review</a> </div> </div> </div> <div class=\"single-review\" tabindex=\"0\"> <span> <span class=\"responsive-img-ldpi\"> <span class=\"responsive-img author-image\" style=\"background-image:url(https://lh6.googleusercontent.com/-0MZuXHgFnHM/AAAAAAAAAAI/AAAAAAAAAAA/ACHi3rchISg3XZE5dVvn5HZuy6GXjNTIEw/w48-h48-p/photo.jpg)\"></span> </span> <span class=\"responsive-img-hdpi\"> <span class=\"responsive-img author-image\" style=\"background-image:url(https://lh6.googleusercontent.com/-0MZuXHgFnHM/AAAAAAAAAAI/AAAAAAAAAAA/ACHi3rchISg3XZE5dVvn5HZuy6GXjNTIEw/w96-h96-p/photo.jpg)\"></span> </span> </span> <div class=\"review-header\" data-expand-target=\"\" data-reviewid=\"gp:AOqpTOESA9j5PwViwqN85ucTYikV6en1vrSIU4FgzEDprewOhzwqIkRTgL7_KK0-RArSMjb0dyuVDb3w9cSDLA\"> <div class=\"review-info\"> <span class=\"author-name\"> Robert Carter </span> <span class=\"review-date\">18 June 2019</span> <a class=\"reviews-permalink\" href=\"/store/apps/details?id=com.spotify.music&amp;reviewId=Z3A6QU9xcFRPRVNBOWo1UHdWaXdxTjg1dWNUWWlrVjZlbjF2clNJVTRGZ3pFRHByZXdPaHp3cUlrUlRnTDdfS0swLVJBclNNamIwZHl1VkRiM3c5Y1NETEE\" title=\"Link to this review\"></a> <div class=\"review-source\" style=\"display:none\"></div> <div class=\"review-info-star-rating\"> <div aria-label=\"Rated 1 stars out of five stars\" class=\"tiny-star star-rating-non-editable-container\"> <div class=\"current-rating\" jsname=\"jIIjq\" style=\"width:20%\"></div> </div> </div> </div> <div class=\"rate-review-wrapper\"> <button class=\"play-button icon-button small rate-review\" data-rating=\"SPAM\" title=\"Spam\"> <div class=\"icon spam-flag\"></div> </button> <button class=\"play-button icon-button small rate-review\" data-rating=\"HELPFUL\" title=\"Helpful\"> <div class=\"icon thumbs-up\"></div> </button> <button class=\"play-button icon-button small rate-review\" data-rating=\"UNHELPFUL\" title=\"Unhelpful\"> <div class=\"icon thumbs-down\"></div> </button> </div> </div> <div class=\"review-body with-review-wrapper\"> <span class=\"review-title\"></span> The old ui was close to perfect. The new ui is horrific. It makes it a chore/nightmare to find songs and artists in your library without using the \"search\" feature. They gutted the entire intent of having a user library and now only recommend artists based on songs I have liked. I want all the artists I have downloaded and to have them searchable alphabetically. Fix it or I will be forced to look for a new service. I know my alphabet. Let me get to my liked artists, albums, and songs easily. <div class=\"review-link\" style=\"display:none\"> <a class=\"id-no-nav play-button tiny\" href=\"#\" target=\"_blank\">Full Review</a> </div> </div> </div> <div class=\"single-review\" tabindex=\"0\"> <span> <span class=\"responsive-img-ldpi\"> <span class=\"responsive-img author-image\" style=\"background-image:url(https://lh3.googleusercontent.com/a-/AAuE7mCBX7e9qBCWCJXitNFPXMagpcYF7zBvxB0FMB6l=w48-h48-p)\"></span> </span> <span class=\"responsive-img-hdpi\"> <span class=\"responsive-img author-image\" style=\"background-image:url(https://lh3.googleusercontent.com/a-/AAuE7mCBX7e9qBCWCJXitNFPXMagpcYF7zBvxB0FMB6l=w96-h96-p)\"></span> </span> </span> <div class=\"review-header\" data-expand-target=\"\" data-reviewid=\"gp:AOqpTOEwiuAJaY2DaQ5Ka4X176tvDn2pGYRz3U5vwE1lZUrAMcyrTLKxhL61bbfnQOBhQOF36gclunCgthqb5g\"> <div class=\"review-info\"> <span class=\"author-name\"> Kevin Crow </span> <span class=\"review-date\">21 June 2019</span> <a class=\"reviews-permalink\" href=\"/store/apps/details?id=com.spotify.music&amp;reviewId=Z3A6QU9xcFRPRXdpdUFKYVkyRGFRNUthNFgxNzZ0dkRuMnBHWVJ6M1U1dndFMWxaVXJBTWN5clRMS3hoTDYxYmJmblFPQmhRT0YzNmdjbHVuQ2d0aHFiNWc\" title=\"Link to this review\"></a> <div class=\"review-source\" style=\"display:none\"></div> <div class=\"review-info-star-rating\"> <div aria-label=\"Rated 1 stars out of five stars\" class=\"tiny-star star-rating-non-editable-container\"> <div class=\"current-rating\" jsname=\"jIIjq\" style=\"width:20%\"></div> </div> </div> </div> <div class=\"rate-review-wrapper\"> <button class=\"play-button icon-button small rate-review\" data-rating=\"SPAM\" title=\"Spam\"> <div class=\"icon spam-flag\"></div> </button> <button class=\"play-button icon-button small rate-review\" data-rating=\"HELPFUL\" title=\"Helpful\"> <div class=\"icon thumbs-up\"></div> </button> <button class=\"play-button icon-button small rate-review\" data-rating=\"UNHELPFUL\" title=\"Unhelpful\"> <div class=\"icon thumbs-down\"></div> </button> </div> </div> <div class=\"review-body with-review-wrapper\"> <span class=\"review-title\"></span> Spotify has always done some weird and annoying things but this latest update has made it nearly unusable, at least to me. Most artists who's music I've saved, don't show up in the artist list and those that do sort in some random order. When you click into an artist to see the albums, you get a black screen for about 8 seconds (yup, I timed it). Spotify has always been kind of annoying, but now it's just a frustrating experience. <div class=\"review-link\" style=\"display:none\"> <a class=\"id-no-nav play-button tiny\" href=\"#\" target=\"_blank\">Full Review</a> </div> </div> </div> "
      ]
     },
     "execution_count": 32,
     "metadata": {},
     "output_type": "execute_result"
    }
   ],
   "source": [
    "htmlResult"
   ]
  },
  {
   "cell_type": "code",
   "execution_count": null,
   "metadata": {},
   "outputs": [],
   "source": []
  },
  {
   "cell_type": "code",
   "execution_count": null,
   "metadata": {},
   "outputs": [],
   "source": []
  },
  {
   "cell_type": "code",
   "execution_count": 8,
   "metadata": {
    "scrolled": true
   },
   "outputs": [
    {
     "name": "stdout",
     "output_type": "stream",
     "text": [
      "asia 53\n",
      "asia US North Korea envoy in Moscow amid reports of Kim-Putin talks - CNA\n",
      "asia Numbers game: How Thailand's election system favours pro-army parties - CNA\n",
      "asia China province seeks to alleviate poverty through artificial intelligence | Video - CNA\n",
      "asia Prague honours late Chinese dissident Liu with bust - CNA\n",
      "asia Welcome to scam town  - CNA\n",
      "asia Indonesian presidential candidates battle for West Java voters | Video  - CNA\n",
      "asia Couple's sea home vision sunk by Thai navy charges - CNA\n",
      "asia A small step for China: Mars base for teens opens in desert - CNA\n",
      "asia New Bill to give Thai spy agency sweeping powers - CNA\n",
      "asia China turns to big data to steer economic growth | Video - CNA\n",
      "asia About 38,000 Indonesians turn up to cast their votes in Singapore | Video - CNA\n",
      "asia Bangkok food sellers eye return to the streets as military government faces election test - CNA\n",
      "asia Commentary: A spirit of pessimism hovers over Hong Kong, one of the least happy places in the world - CNA\n",
      "asia Indonesia elections 2019: President Joko Widodo optimistic about outcome - CNA\n",
      "asia 111 trees for 1 baby girl - CNA\n",
      "asia Far East Hospitality to expand into Vietnam with 2 boutique hotels - CNA\n",
      "asia Commentary: In Indonesia and more countries, social media and Big Tobacco are hooking a whole new generation of smokers - CNA\n",
      "asia Prince William's visit set to 'bring comfort' to Christchurch - CNA\n",
      "asia Malaysia probes book on Muslim women who refuse to wear headscarves - CNA\n",
      "asia Meet the ‘new’ Thaksin and Yingluck: Thai election candidates change names to emulate exiled Shinawatras - CNA\n",
      "asia Indonesia elections 2019: Prabowo votes in Bogor - CNA\n",
      "asia Malaysia begins inquiry into discovery of mass graves, human trafficking camps - CNA\n",
      "asia Commentary: Looks like Indonesia has rejected divisive identity politics - CNA\n",
      "asia South Korea's Moon kicks off three-country Central Asian tour - CNA\n",
      "asia Indonesia lures voters with ghouls, superheroes and tonnes of fun - CNA\n",
      "asia Indians begin voting in second phase of mammoth general election - CNA\n",
      "asia Bangladesh starlet apologises after 'atheist' comments - CNA\n",
      "asia Indonesia president Jokowi leads in early election vote count against Prabowo: Pollsters - CNA\n",
      "asia India elections: Analysts says young voters hold the key to victory in several seats | Video - CNA\n",
      "asia Vietnam police seize 900kg of meth found abandoned on roadside  - CNA\n",
      "asia Malaysia's ruling Pakatan Harapan seeking a win in Rantau by-election after two earlier losses | Video - CNA\n",
      "asia Hong Kong Airlines faces more uncertainty as chairman challenges his removal - CNA\n",
      "asia Singapore dollar rises to 17-month high against Malaysian ringgit - CNA\n",
      "asia Trade, North Korea on agenda for Abe-Trump White House meeting - CNA\n",
      "asia Blessed beauties: Laos new year pageant pits 'King's daughters' as rivals - CNA\n",
      "asia Indonesia gears up for presidential and legislative elections | Video - CNA\n",
      "asia Reuters reporters not among 9,500 prisoners granted amnesty in Myanmar - CNA\n",
      "asia Football: Kane's boyhood team-mate turns Chinese history-maker - CNA\n",
      "asia South Korean man sets flat on fire then kills five fleeing blaze - CNA\n",
      "asia Jokowi's second term could open Indonesia’s door to foreign investors - CNA\n",
      "asia Foxconn boss Terry Gou announces bid to run for Taiwan presidency - CNA\n",
      "asia Jet Airways to temporarily suspend operations after banks reject funding request: Sources - CNA\n",
      "asia Indonesia warns against protests as Widodo rival rejects results - CNA\n",
      "asia Strong quake hits Taiwan's Hualien, shakes buildings in Taipei - CNA\n",
      "asia Seoul seeks to capitalise on Stalin's Korean deportations - CNA\n",
      "asia China's Luckin Coffee raises US$150 million from BlackRock, others - CNA\n",
      "asia How to make a politician: The transformation of Thai coup leader Prayut Chan-o-cha - CNA\n",
      "asia Singapore's future homes? - CNA\n",
      "asia Singapore and China have common issues to tackle: DPM Teo Chee Hean | Video - CNA\n",
      "asia Thailand's elections: stability, but growth for whom?  - CNA\n",
      "asia Bangladesh garment makers ask government to extend export subsidy - CNA\n",
      "asia Japanese museum exhibition tries to clean up poop's image - CNA\n",
      "asia North Korean leader Kim Jong Un oversees test of new tactical guided weapon: KCNA - CNA\n",
      "business 48\n",
      "business Explainer: How 5G drove moves by Apple, Qualcomm and Intel - CNA\n",
      "business US labor market remains tight, economy continues to grow: Fed Beige Book - CNA\n",
      "business Singapore's GDP growth slows to 1.3% in Q1: MTI advance estimates | Video - CNA\n",
      "business Major automakers fear Trump 'grenade' - imposing US auto tariffs - CNA\n",
      "business Women-only credit cards - an outdated approach? | Video - CNA\n",
      "business Asian shares edge up to nine-month high, European, Japan PMIs awaited - CNA\n",
      "business JPMorgan shuffles CFO and card services executives - CNA\n",
      "business Singapore tops list of global maritime capitals for fourth time in a row | Video - CNA\n",
      "business Pinterest valued at US$12.7 billion in IPO, sign of tech demand after Lyft struggles - CNA\n",
      "business Human Capital Conversations  – 3M Singapore - CNA\n",
      "business FCC chairman opposes China Mobile bid to provide US services - CNA\n",
      "business Human Capital Conversations – Rajah & Tann - CNA\n",
      "business Commentary: In Indonesia and more countries, social media and Big Tobacco are hooking a whole new generation of smokers - CNA\n",
      "business Amazon, facing entrenched rivals, says to shut China online store - CNA\n",
      "business Unilever first-quarter sales top expectations - CNA\n",
      "business Terry Gou's Taiwan presidential run fuels rally in Foxconn shares - CNA\n",
      "business Declining US market ratchets up competition for SUV sales - CNA\n",
      "business United sees Boeing's 737 MAX flying this summer, deliveries before year-end - CNA\n",
      "business US chipmakers' shares rally despite demand uncertainty - CNA\n",
      "business Wall Street banks under pressure to make deeper cost cuts - CNA\n",
      "business European stocks take heart from improving growth outlook - CNA\n",
      "business Exclusive: Spain's Repsol suspends swap deal for Venezuelan oil under US pressure - CNA\n",
      "business Fundamentals of Singapore bond market remain strong: Analysts | Video - CNA\n",
      "business Suzhou Industrial Park celebrates 25th anniversary | Video - CNA\n",
      "business Bangladesh garment makers ask government to extend export subsidy - CNA\n",
      "business MAS hits pause button on tightening, leaves monetary policy unchanged as expected | Video - CNA\n",
      "business Oil prices slip amid ample US output, Brent drifts away from five-month high - CNA\n",
      "business US trade deficit hits eight-month low on weak Chinese imports - CNA\n",
      "business Tesla holdings slashed by T. Rowe Price funds in latest cuts by investor - CNA\n",
      "business S$3.7 million set aside to help SMEs in maritime industry digitalise | Video - CNA\n",
      "business Boeing making 'steady progress' on path to 737 MAX software certification: CEO - CNA\n",
      "business Pier 1 Imports CFO to depart, likely to shut over 45 stores in 2020 - CNA\n",
      "business Apple accused in US lawsuit of securities fraud over iPhone sales in China - CNA\n",
      "business New private home sales jump 47% in March as developers roll out multiple projects | Video - CNA\n",
      "business Commentary: How to prioritise your to-do list in the stressful fog of competing demands - CNA\n",
      "business GM says Cadillac brand points to strong growth in China - CNA\n",
      "business Human Capital Conversations – HOPE Technik - CNA\n",
      "business Nestle upbeat after US and China boost first-quarter growth - CNA\n",
      "business South Korean telecoms unperturbed by threats related to Chinese infrastructure | Video - CNA\n",
      "business US stocks edge down as health shares slide - CNA\n",
      "business Indoor testbeds for drones to be housed at Seletar Aerospace Park | Video - CNA\n",
      "business Labour shortages, trade uncertainty weigh on US economy: Fed report - CNA\n",
      "business China's Luckin Coffee raises US$150 million from BlackRock, others - CNA\n",
      "business Jet Airways lenders 'reasonably hopeful' of successful bids for grounded airline - CNA\n",
      "business Singapore March exports post worst fall in more than 2 years - CNA\n",
      "business Uber nears investment deal for self-driving car unit: Report - CNA\n",
      "business BlackRock strategists advocate trimming investment portfolio risk - CNA\n",
      "business Amazon says will not operate China marketplace site from Jul 18 - CNA\n"
     ]
    },
    {
     "name": "stdout",
     "output_type": "stream",
     "text": [
      "world 47\n",
      "world Trade, North Korea on agenda for Abe-Trump White House meeting - CNA\n",
      "world NASA astronaut to set record for longest space flight by a woman  - CNA\n",
      "world White House, Justice Department officials discussed Mueller report ahead of release: Report - CNA\n",
      "world Scammers preying on Notre-Dame donors, France warns - CNA\n",
      "world Hatred of journalists turning to violence, watchdog warns - CNA\n",
      "world Germany struggles in UN push to address sexual violence - CNA\n",
      "world The US state of New York is toughening its gun laws in the hope of reducing the risk of school shootings | Video - CNA\n",
      "world Endangered New Zealand Kakapo population boosted by record number of chicks - CNA\n",
      "world Cathedral bells ring out across France after Notre-Dame catastrophe - CNA\n",
      "world France to ban food additive E171 from next year  - CNA\n",
      "world Flood of lawsuits, flight of investors on cards with US Cuba move - CNA\n",
      "world Philippine, US troops wrap up drills conducted against background of tensions in South China Sea | Video - CNA\n",
      "world 29 German tourists killed in Portuguese bus crash - CNA\n",
      "world Seoul seeks to capitalise on Stalin's Korean deportations - CNA\n",
      "world New Brexit Party opens up lead in European elections poll - CNA\n",
      "world Russia’s Putin signs laws against fake news | Video - CNA\n",
      "world Nicaragua opposition defies ban to march on deadly protest anniversary - CNA\n",
      "world Grim reading for parts of US after climate change report | Video - CNA\n",
      "world Prince William's visit set to 'bring comfort' to Christchurch - CNA\n",
      "world Samsung Galaxy Fold's screen malfunctions after a day, some reviewers say - CNA\n",
      "world Urine traces provide insight into ancient animal domestication - CNA\n",
      "world Peru ex-president Garcia dies after shooting himself: Party official - CNA\n",
      "world Butterflies swarm Lebanon's meadows in numbers unseen for 100 years - CNA\n",
      "world Salah calls for change in treatment of women in Muslim world - CNA\n",
      "world World Civil Aviation Chief Executives Forum kicks off in Singapore | Video - CNA\n",
      "world Man caught walking into New York cathedral with full gas cans, lighters - CNA\n",
      "world As Notre-Dame money rolls in, some eyebrows raised over rush of funds - CNA\n",
      "world US college admissions scandal puts spotlight on admission into elite schools | Video - CNA\n",
      "world Boeing making 'steady progress' on path to 737 MAX software certification: CEO - CNA\n",
      "world Netanyahu election victory makes Middle East peace more unlikely | Video - CNA\n",
      "world More homeless Americans living in their cars | Video - CNA\n",
      "world Scientists revive brain function in dead pigs - CNA\n",
      "world Tourists among four injured in lightning strike at Acropolis - CNA\n",
      "world Can Notre-Dame be restored in just five years? - CNA\n",
      "world Singapore, Australia reaffirm excellent bilateral relations at ministerial dialogue in Sydney | Video - CNA\n",
      "world Poppies bloom across Afghanistan as drought eases - CNA\n",
      "world Israeli president tasks Netanyahu with forming new government - CNA\n",
      "world Iran says its armed forces are not a regional threat, calls for unity against US - CNA\n",
      "world Helicopter pilot in French gangster's prison break released - CNA\n",
      "world France to try Syrian President Assad's uncle on graft charges - CNA\n",
      "world In Iraq, tribal traditions rob women, girls of rights - CNA\n",
      "world Disney donates US$5 million to restore Notre-Dame - CNA\n",
      "world Role of women in the rise of Artificial Intelligence | Video - CNA\n",
      "world World powers divided over UN call for Libya ceasefire - CNA\n",
      "world Dozens of Nicaraguans arrested in anti-government march: Opposition - CNA\n",
      "world Researchers discover ancient giant 'lion' in Kenya - CNA\n",
      "world Chilean suspect in Japanese student disappearance faces prosecutors - CNA\n",
      "technology 35\n",
      "technology Event software maker Bizzabo raises US$27 million in private funding - CNA\n",
      "technology Facebook working on voice assistant to rival Amazon's Alexa - CNA\n",
      "technology Samsung Galaxy Fold's screen malfunctions after a day, some reviewers say - CNA\n",
      "technology Iraq parliament bans online battle games, citing 'negative' influence - CNA\n",
      "technology Minnesota student sues China's JD.com CEO with allegation of rape - CNA\n",
      "technology Samsung receives reports of Galaxy Fold screen problems, says to investigate - CNA\n",
      "technology China forms task force to review design changes to Boeing 737 MAX - CNA\n",
      "technology EU parliament votes to fine internet firms for not removing extremist content quickly - CNA\n",
      "technology EU unfair practices digital rules put spotlight on Google, Amazon, Facebook - CNA\n",
      "technology T-Mobile, Comcast launch anti-robocalling feature, claim industry's first - CNA\n",
      "technology Facebook says it uploaded email contacts of up to 1.5 million users - CNA\n",
      "technology Huawei CEO offered Berlin no-spy deal to soften 5G concerns - Wirtschaftswoche - CNA\n",
      "technology ASML rejects Samsung's involvement in IP theft case with rival - CNA\n",
      "technology Digital banking startup Aspiration seeks new funding round - CNA\n",
      "technology Foxconn boss Terry Gou announces bid to run for Taiwan presidency - CNA\n",
      "technology Qualcomm gains US$30 billion in market value after Apple settlement - CNA\n",
      "technology Xbox to partner with ELEAGUE for Gears of War series - CNA\n",
      "technology Toyota to sell first hybrid car made in Brazil - CNA\n",
      "technology Israeli AI-for-radiology startup Aidoc raises US$27 million - CNA\n",
      "technology Boeing 737 MAX software upgrade 'operationally suitable': FAA panel - CNA\n",
      "technology Big corporates back crypto 'plumbing' despite currency caution - CNA\n",
      "technology Apple and Qualcomm bury the hatchet in royalties battle royal - CNA\n",
      "technology Netflix forecast disappoints as streaming competition looms - CNA\n",
      "technology Explainer: How 5G drove moves by Apple, Qualcomm and Intel - CNA\n",
      "technology EU lawmakers back wifi-based car standard in win for Volkswagen - CNA\n",
      "technology China goes all-in on home-grown tech in push for nuclear dominance - CNA\n",
      "technology Britain to roll out age-verification for online porn in world first - CNA\n",
      "technology Samsung Electronics says will inspect damaged Galaxy Fold samples - CNA\n",
      "technology Ubisoft offers Notre-Dame-themed Assassin's Creed game for free - CNA\n",
      "technology China's Sina to temporarily suspend some apps due to violations - CNA\n",
      "technology Foxconn's Gou to 'follow order of sea goddess' in Taiwan vote; yet to declare presidential run - CNA\n",
      "technology China selfie app firm Meitu forays into skincare to counter drop in users - CNA\n",
      "technology Microsoft turned down facial-recognition sales on human rights concerns - CNA\n",
      "technology Amazon, facing entrenched rivals, says to shut China online store - CNA\n",
      "technology Commentary: In Indonesia and more countries, social media and Big Tobacco are hooking a whole new generation of smokers - CNA\n",
      "singapore 49\n",
      "singapore 18-year-old arrested for Carousell concert ticket scams - CNA\n",
      "singapore Thwarting fraud: Thousands to 'crowd-source' Indonesian election results - CNA\n",
      "singapore 2 men arrested for allegedly molesting women at bus stop, on MRT train  - CNA\n",
      "singapore Jewel Changi Airport in a new light | Video - CNA\n",
      "singapore Meet the Singaporean who’s spicing up the art scene with her giant chillies - CNA\n",
      "singapore Medical officer admits to signing off on four of his own MCs - CNA\n",
      "singapore Singapore March exports post worst fall in more than 2 years | Video - CNA\n",
      "singapore Foodies make a beeline for popular eateries as Jewel Changi Airport opens | Video - CNA\n",
      "singapore US presence in Asia remains vital for region's peace: Heng Swee Keat | Video - CNA\n",
      "singapore Singapore black metal band cancels Easter concert in Malaysia after complaint from Council of Churches - CNA\n",
      "singapore Chief Justice dismisses appeal for higher sentence for man with fetish for stealing women's wallets - CNA\n",
      "singapore All new schools will be barrier-free to better integrate special needs students: Halimah Yacob | Video - CNA\n",
      "singapore Girl who died after near-drowning in Sentosa hotel pool was left alone with float: Coroner - CNA\n",
      "singapore MOM to focus on career mobility for all workers | Video - CNA\n",
      "singapore Woman caught for smuggling cigarettes hidden in packet of sanitary pads - CNA\n",
      "singapore No more passport stamp when you leave Singapore? 5 other ways travelling has changed - CNA\n",
      "singapore Construction company fined S$42,000 for damaging water main while drilling - CNA\n"
     ]
    },
    {
     "name": "stdout",
     "output_type": "stream",
     "text": [
      "singapore New attractions, hotel in Jurong Lake District as tourism sector gets tech boost| Video - CNA\n",
      "singapore Foodies make a beeline for popular eateries as Jewel Changi Airport opens - CNA\n",
      "singapore 2 men acquitted of charges in 12-hour attack that left teenage girl with spine fracture - CNA\n",
      "singapore Foreigners leaving Singapore will no longer have their passports stamped - CNA\n",
      "singapore Last Day at Work: 'Education is in my DNA’ says school principal as she draws the curtain on a long career - CNA\n",
      "singapore MOM to develop guidelines on rest areas for lower-wage workers | Video - CNA\n",
      "singapore From garden cart to Garden City: Shake Shack goes full circle with Singapore debut - CNA\n",
      "singapore CNB arrests 4, seizes large assortment of drugs worth about S$45,000 - CNA\n",
      "singapore PUB issues termination notice to Tuaspring, will take over desalination plant in 30 days - CNA\n",
      "singapore Massage therapist jailed and fined for molesting customer, having obscene videos - CNA\n",
      "singapore PUB issues termination notice to Tuaspring, will take over desalination plant in 30 days | Video - CNA\n",
      "singapore Singapore dollar rises to 17-month high against Malaysian ringgit - CNA\n",
      "singapore MOM to develop guidelines on rest areas for lower-wage workers - CNA\n",
      "singapore Last Day at Work: The taxi driver who puts his passengers before himself   - CNA\n",
      "singapore 22-year-old arrested over e-commerce scams involving Grab credits - CNA\n",
      "singapore Far East Hospitality to expand into Vietnam with 2 boutique hotels - CNA\n",
      "singapore Man jailed for attacking bus drivers two days in a row over bus fare to Yishun - CNA\n",
      "singapore NParks volunteer fined for leading nature group into Windsor Nature Park illegally after hours - CNA\n",
      "singapore Singapore March exports post worst fall in more than 2 years - CNA\n",
      "singapore COE prices close mostly higher in latest bidding exercise - CNA\n",
      "singapore Garden of Peace: Ash scattering garden at Choa Chu Kang Cemetery to be open to all faiths - CNA\n",
      "singapore Fewer COEs available from May to July - CNA\n",
      "singapore GrabFood looking to introduce central kitchens in Singapore this year - CNA\n",
      "singapore Last Day at Work: The veteran nurse whose wish to help save lives will never stop - CNA\n",
      "singapore Family of woman in vegetative state after brain operation sues NUH, head neurosurgeon - CNA\n",
      "singapore MOM to focus on career mobility for all workers - CNA\n",
      "singapore 43 measles cases in first 15 weeks of 2019 | Video - CNA\n",
      "singapore Warm and wet weather expected in second half of April - CNA\n",
      "singapore Singapore regulators reviewing disclosure issues, accounting practices at Hyflux for potential breaches - CNA\n",
      "singapore 32 people arrested for illegal horse betting activities - CNA\n",
      "singapore New attractions, hotel in Jurong Lake District amid tourism boost - CNA\n",
      "singapore Last Day at Work: The SCDF officer who cared for people and helped save lives - CNA\n",
      "health 35\n",
      "health In some states, sexting could land teens in jail for a long time - CNA\n",
      "health Mother detained after Chinese vaccine protest - CNA\n",
      "health Ebola is real, Congo president tells skeptical population - CNA\n",
      "health FDA orders transvaginal surgical mesh pulled from market - CNA\n",
      "health France to ban food additive E171 from next year  - CNA\n",
      "health Switzerland to monitor potential health risks posed by 5G networks - CNA\n",
      "health For its health and yours, keep the cat indoors: Study  - CNA\n",
      "health Hearing loss tied to increased risk for depression - CNA\n",
      "health Child abuse, recurrent depression linked to similar changes in brain - CNA\n",
      "health Family of woman in vegetative state after brain operation sues NUH, head neurosurgeon - CNA\n",
      "health Dozens of doctors in Appalachia charged in opioid fraud bust - CNA\n",
      "health Pleasant smells may curb cigarette cravings - CNA\n",
      "health 7-Eleven store among 4 retailers caught for selling cigarettes to underage customers: HSA - CNA\n",
      "health First-year trainee doctors spend little time on patient care - CNA\n",
      "health Cannabis users may need more anesthesia for surgery - CNA\n",
      "health Commentary: Exercise addiction, when life dangerously revolves around your fitness schedule - CNA\n",
      "health Sexual harassment common in surgical training programs - CNA\n",
      "health Most diabetes apps lack real-time advice on blood sugar management - CNA\n",
      "health Germany to launch cannabis farming as Canada's Aurora, Aphria win tenders - CNA\n",
      "health Recordati to seek Canadian approval for kidney disease drug - CNA\n",
      "health Commentary: In Indonesia and more countries, social media and Big Tobacco are hooking a whole new generation of smokers - CNA\n",
      "health China urges large pig farms to test for African swine fever - CNA\n",
      "health Financial scam victims have higher risk of Alzheimer's - CNA\n",
      "health Global measles cases up 300% year-on-year: WHO - CNA\n",
      "health France to ban titanium dioxide whitener in food from 2020 - CNA\n",
      "health Wrist, upper-arm blood pressure readings often differ considerably - CNA\n",
      "health South Africa's Tiger Brands to fight listeria class action - CNA\n",
      "health Yale study revives cellular activity in pig brains hours after death - CNA\n",
      "health 3D goggles may soon help surgeons see better - CNA\n",
      "health Germany reopens painful debate on assisted suicide - CNA\n",
      "health Gilead teams up with insitro for experimental NASH treatments - CNA\n",
      "health St. Jude doctors claim cure for 'bubble boy' disease - CNA\n",
      "health US health officials probe multi-state salmonella outbreak - CNA\n",
      "health Cholera cases rise in Kenya's capital, top hospital says - CNA\n",
      "health New 'added sugars' labeling could save money and improve health - CNA\n",
      "done!\n"
     ]
    }
   ],
   "source": [
    "# %%time\n",
    "headers = {'User-Agent': 'Mozilla/5.0'}\n",
    "cat = ['asia', 'business', 'world', 'technology', 'singapore', 'health']\n",
    "news_all = pd.DataFrame(columns=['Title','PageLink','Article','Date','Category'])\n",
    "\n",
    "for c in cat:\n",
    "    url = 'https://www.channelnewsasia.com/news/%s' % c\n",
    "\n",
    "    response = requests.get(url, headers=headers)\n",
    "    soup = BeautifulSoup(response.text)\n",
    "\n",
    "    a_tag = soup.findAll('a')\n",
    "    \n",
    "    # get links of all articles\n",
    "    art_links = list()\n",
    "    for i in range(len(a_tag)):\n",
    "        if 'data-url' in str(a_tag[i]):\n",
    "            # print(i, a_tag[i]['data-url'])  #['data-url']\n",
    "            art_links.append(a_tag[i]['data-url'])\n",
    "\n",
    "    art_links = list(set(art_links))\n",
    "    print(c, len(art_links))\n",
    "    \n",
    "    # get texts\n",
    "    title = []\n",
    "    articles_all = []\n",
    "\n",
    "    for link in art_links:    \n",
    "        # session = requests.Session()\n",
    "        page = requests.get(link, headers=headers)\n",
    "        soup = BeautifulSoup(page.text)\n",
    "\n",
    "        # title\n",
    "        t = soup.title.get_text()\n",
    "        print(c, t)\n",
    "        title.append(t)\n",
    "\n",
    "        # store the text for each article\n",
    "        paragraphs = soup.find_all('p')\n",
    "        paragraphtext = []    \n",
    "        for p in paragraphs:\n",
    "            paragraphtext.append(p.get_text())\n",
    "\n",
    "        article = [' \\n'.join(paragraphtext)]\n",
    "        articles_all.append(article)\n",
    "\n",
    "        time.sleep(np.random.choice(7))\n",
    "        \n",
    "    # create pd df for one cat\n",
    "    data = {'Title': title, \n",
    "        'PageLink': art_links, \n",
    "        'Article': articles_all, \n",
    "        'Date': datetime.now(),\n",
    "        'Category': c}\n",
    "\n",
    "    news = pd.DataFrame(data=data)\n",
    "    \n",
    "    # append cat news to all news df\n",
    "    news_all = news_all.append(news, sort=False)\n",
    "\n",
    "print('done!')"
   ]
  },
  {
   "cell_type": "code",
   "execution_count": 9,
   "metadata": {
    "scrolled": true
   },
   "outputs": [
    {
     "data": {
      "text/plain": [
       "(267, 5)"
      ]
     },
     "execution_count": 9,
     "metadata": {},
     "output_type": "execute_result"
    }
   ],
   "source": [
    "news_all.shape"
   ]
  },
  {
   "cell_type": "code",
   "execution_count": 10,
   "metadata": {},
   "outputs": [],
   "source": [
    "# news_all.to_csv('data/cna-news-all-%s.csv' % str(datetime.now().date()), sep='|', encoding=\"utf-8\")"
   ]
  },
  {
   "cell_type": "code",
   "execution_count": 17,
   "metadata": {},
   "outputs": [],
   "source": [
    "df = pd.read_csv('data/cna-news-all.csv', sep='|', encoding=\"utf-8\")\n",
    "df = df.drop(columns=['Unnamed: 0'])\n",
    "\n",
    "# df2 = pd.read_csv('data/cna-news-all-2019-04-02.csv', sep='|')"
   ]
  },
  {
   "cell_type": "code",
   "execution_count": 18,
   "metadata": {},
   "outputs": [
    {
     "data": {
      "text/html": [
       "<div>\n",
       "<style scoped>\n",
       "    .dataframe tbody tr th:only-of-type {\n",
       "        vertical-align: middle;\n",
       "    }\n",
       "\n",
       "    .dataframe tbody tr th {\n",
       "        vertical-align: top;\n",
       "    }\n",
       "\n",
       "    .dataframe thead th {\n",
       "        text-align: right;\n",
       "    }\n",
       "</style>\n",
       "<table border=\"1\" class=\"dataframe\">\n",
       "  <thead>\n",
       "    <tr style=\"text-align: right;\">\n",
       "      <th></th>\n",
       "      <th>Title</th>\n",
       "      <th>PageLink</th>\n",
       "      <th>Article</th>\n",
       "      <th>Date</th>\n",
       "      <th>Category</th>\n",
       "      <th>article_len</th>\n",
       "    </tr>\n",
       "  </thead>\n",
       "  <tbody>\n",
       "    <tr>\n",
       "      <th>0</th>\n",
       "      <td>Military-backed party 'confident' it can form government, setting stage for standoff in Thailand - Channel NewsAsia</td>\n",
       "      <td>https://www.channelnewsasia.com/news/asia/palang-pracharat-confident-it-can-form-government-thai-election-11385792</td>\n",
       "      <td>'BANGKOK: The pro-military Palang Pracharat party has claimed the right to form the next Thai government, based on its early lead in the popular vote. \\nIts leader, Uttama Savanayana, said Palang Pracharat was taking its time to form a coalition as there are six weeks until official results are ...</td>\n",
       "      <td>2019-03-28 12:41:50.951786</td>\n",
       "      <td>asia</td>\n",
       "      <td>529</td>\n",
       "    </tr>\n",
       "    <tr>\n",
       "      <th>1</th>\n",
       "      <td>China slams British warning over Hong Kong freedoms - Channel NewsAsia</td>\n",
       "      <td>https://www.channelnewsasia.com/news/asia/china-slams-british-warning-over-hong-kong-freedoms-11386838</td>\n",
       "      <td>'HONG KONG: China on Wednesday (Mar 27) condemned a British report that expressed concern over eroding freedoms in Hong Kong, accusing the UK of having \"ignored and distorted the truth\" about the city. \\nFormer British colony Hong Kong enjoys rights unseen on the Chinese mainland, including free...</td>\n",
       "      <td>2019-03-28 12:41:50.951786</td>\n",
       "      <td>asia</td>\n",
       "      <td>375</td>\n",
       "    </tr>\n",
       "  </tbody>\n",
       "</table>\n",
       "</div>"
      ],
      "text/plain": [
       "                                                                                                                 Title  \\\n",
       "0  Military-backed party 'confident' it can form government, setting stage for standoff in Thailand - Channel NewsAsia   \n",
       "1                                               China slams British warning over Hong Kong freedoms - Channel NewsAsia   \n",
       "\n",
       "                                                                                                             PageLink  \\\n",
       "0  https://www.channelnewsasia.com/news/asia/palang-pracharat-confident-it-can-form-government-thai-election-11385792   \n",
       "1              https://www.channelnewsasia.com/news/asia/china-slams-british-warning-over-hong-kong-freedoms-11386838   \n",
       "\n",
       "                                                                                                                                                                                                                                                                                                       Article  \\\n",
       "0  'BANGKOK: The pro-military Palang Pracharat party has claimed the right to form the next Thai government, based on its early lead in the popular vote. \\nIts leader, Uttama Savanayana, said Palang Pracharat was taking its time to form a coalition as there are six weeks until official results are ...   \n",
       "1  'HONG KONG: China on Wednesday (Mar 27) condemned a British report that expressed concern over eroding freedoms in Hong Kong, accusing the UK of having \"ignored and distorted the truth\" about the city. \\nFormer British colony Hong Kong enjoys rights unseen on the Chinese mainland, including free...   \n",
       "\n",
       "                         Date Category  article_len  \n",
       "0  2019-03-28 12:41:50.951786     asia          529  \n",
       "1  2019-03-28 12:41:50.951786     asia          375  "
      ]
     },
     "execution_count": 18,
     "metadata": {},
     "output_type": "execute_result"
    }
   ],
   "source": [
    "# df2 = pd.read_csv('data/cna-news-all-2019-03-28.csv', sep='|')\n",
    "# df3 = pd.read_csv('data/cna-news-all-2019-04-01.csv', sep='|') \n",
    "# df4 = pd.read_csv('data/cna-news-all-2019-04-02.csv', sep='|') \n",
    "# df5 = pd.read_csv('data/cna-news-all-2019-04-03.csv', sep='|')\n",
    "df.head(2)"
   ]
  },
  {
   "cell_type": "code",
   "execution_count": 12,
   "metadata": {},
   "outputs": [],
   "source": [
    "# df = pd.DataFrame(columns=['Title','PageLink','Article','Date','Category'])\n",
    "\n",
    "# df = df.append(df2, sort=False)\n",
    "# df = df.append(df3, sort=False)\n",
    "# df = df.append(df4, sort=False)\n",
    "# df = df.append(df5, sort=False)\n",
    "\n",
    "df = df.append(news_all, sort=False)"
   ]
  },
  {
   "cell_type": "code",
   "execution_count": 13,
   "metadata": {},
   "outputs": [],
   "source": [
    "# df = df.drop(columns=['Unnamed: 0'])\n",
    "\n",
    "df.to_csv('data/cna-news-all.csv', sep='|', encoding=\"utf-8\")"
   ]
  },
  {
   "cell_type": "code",
   "execution_count": 2,
   "metadata": {},
   "outputs": [],
   "source": [
    "df = pd.read_csv('data/cna-news-all.csv', sep='|', encoding=\"utf-8\")\n",
    "df = df.drop(columns=['Unnamed: 0'])"
   ]
  },
  {
   "cell_type": "code",
   "execution_count": 16,
   "metadata": {},
   "outputs": [
    {
     "name": "stdout",
     "output_type": "stream",
     "text": [
      "<class 'pandas.core.frame.DataFrame'>\n",
      "RangeIndex: 1641 entries, 0 to 1640\n",
      "Data columns (total 6 columns):\n",
      "Title          1641 non-null object\n",
      "PageLink       1641 non-null object\n",
      "Article        1641 non-null object\n",
      "Date           1641 non-null object\n",
      "Category       1641 non-null object\n",
      "article_len    1641 non-null int64\n",
      "dtypes: int64(1), object(5)\n",
      "memory usage: 77.0+ KB\n"
     ]
    }
   ],
   "source": [
    "df.info()"
   ]
  },
  {
   "cell_type": "code",
   "execution_count": 22,
   "metadata": {},
   "outputs": [
    {
     "data": {
      "text/plain": [
       "asia          253\n",
       "business      250\n",
       "singapore     231\n",
       "world         229\n",
       "technology    173\n",
       "health        158\n",
       "Name: Category, dtype: int64"
      ]
     },
     "execution_count": 22,
     "metadata": {},
     "output_type": "execute_result"
    }
   ],
   "source": [
    "df['Category'].value_counts()"
   ]
  },
  {
   "cell_type": "code",
   "execution_count": 26,
   "metadata": {},
   "outputs": [
    {
     "data": {
      "text/plain": [
       "(1641, 6)"
      ]
     },
     "execution_count": 26,
     "metadata": {},
     "output_type": "execute_result"
    }
   ],
   "source": [
    "df['Article'] = df['Article'].apply(lambda a: str(a).replace('\\\\n','').replace('[','').replace(']','').replace('\\\\xa0', ' '))\n",
    "\n",
    "df['article_len'] = df['Article'].apply(lambda a: len(a.split(' ')))\n",
    "\n",
    "df.drop_duplicates(['PageLink'], inplace=True)#.reset_index()\n",
    "df.reset_index(inplace=True, drop=True)\n",
    "\n",
    "df.shape"
   ]
  },
  {
   "cell_type": "code",
   "execution_count": 27,
   "metadata": {
    "scrolled": false
   },
   "outputs": [
    {
     "data": {
      "text/html": [
       "<div>\n",
       "<style scoped>\n",
       "    .dataframe tbody tr th:only-of-type {\n",
       "        vertical-align: middle;\n",
       "    }\n",
       "\n",
       "    .dataframe tbody tr th {\n",
       "        vertical-align: top;\n",
       "    }\n",
       "\n",
       "    .dataframe thead th {\n",
       "        text-align: right;\n",
       "    }\n",
       "</style>\n",
       "<table border=\"1\" class=\"dataframe\">\n",
       "  <thead>\n",
       "    <tr style=\"text-align: right;\">\n",
       "      <th></th>\n",
       "      <th>Title</th>\n",
       "      <th>PageLink</th>\n",
       "      <th>Article</th>\n",
       "      <th>Date</th>\n",
       "      <th>Category</th>\n",
       "      <th>article_len</th>\n",
       "    </tr>\n",
       "  </thead>\n",
       "  <tbody>\n",
       "    <tr>\n",
       "      <th>0</th>\n",
       "      <td>Military-backed party 'confident' it can form government, setting stage for standoff in Thailand - Channel NewsAsia</td>\n",
       "      <td>https://www.channelnewsasia.com/news/asia/palang-pracharat-confident-it-can-form-government-thai-election-11385792</td>\n",
       "      <td>'BANGKOK: The pro-military Palang Pracharat party has claimed the right to form the next Thai government, based on its early lead in the popular vote. Its leader, Uttama Savanayana, said Palang Pracharat was taking its time to form a coalition as there are six weeks until official results are pu...</td>\n",
       "      <td>2019-03-28 12:41:50.951786</td>\n",
       "      <td>asia</td>\n",
       "      <td>529</td>\n",
       "    </tr>\n",
       "    <tr>\n",
       "      <th>1</th>\n",
       "      <td>China slams British warning over Hong Kong freedoms - Channel NewsAsia</td>\n",
       "      <td>https://www.channelnewsasia.com/news/asia/china-slams-british-warning-over-hong-kong-freedoms-11386838</td>\n",
       "      <td>'HONG KONG: China on Wednesday (Mar 27) condemned a British report that expressed concern over eroding freedoms in Hong Kong, accusing the UK of having \"ignored and distorted the truth\" about the city. Former British colony Hong Kong enjoys rights unseen on the Chinese mainland, including freedo...</td>\n",
       "      <td>2019-03-28 12:41:50.951786</td>\n",
       "      <td>asia</td>\n",
       "      <td>375</td>\n",
       "    </tr>\n",
       "    <tr>\n",
       "      <th>2</th>\n",
       "      <td>US-China trade talks open in Beijing - Channel NewsAsia</td>\n",
       "      <td>https://www.channelnewsasia.com/news/asia/us-china-trade-talks-open-in-beijing-11387188</td>\n",
       "      <td>'BEIJING: The United States and China open the latest round of their trade talks Thursday (Mar 28) as the economic superpowers edge towards a deal to resolve a months-long spat that has rattled the global economy. The two-day meetings between US Trade Representative Robert Lighthizer and Treasur...</td>\n",
       "      <td>2019-03-28 12:41:50.951786</td>\n",
       "      <td>asia</td>\n",
       "      <td>758</td>\n",
       "    </tr>\n",
       "    <tr>\n",
       "      <th>3</th>\n",
       "      <td>Huge growth opportunities for renewable energy sources in ASEAN - Channel NewsAsia</td>\n",
       "      <td>https://www.channelnewsasia.com/news/asia/huge-growth-opportunities-for-renewable-energy-sources-in-asean-11382512</td>\n",
       "      <td>'There are about 70 million people in ASEAN with no reliable access to electricity, says auditing firm KPMG. That and the falling price of renewable energy have created huge growth opportunities for renewable power sources that are better able to reach remote areas. Gwyneth Teo reports.   Copyri...</td>\n",
       "      <td>2019-03-28 12:41:50.951786</td>\n",
       "      <td>asia</td>\n",
       "      <td>57</td>\n",
       "    </tr>\n",
       "    <tr>\n",
       "      <th>4</th>\n",
       "      <td>Thai elections: Wooing the rural vote - Channel NewsAsia</td>\n",
       "      <td>https://www.channelnewsasia.com/news/asia/thai-elections-wooing-the-rural-vote-11365840</td>\n",
       "      <td>'Voters in Thailand\\'s rural and agricultural heartlands have long proved influential during elections. To woo the rural vote, parties have suggested policies such as giving free education to children of farmers, as well as building new infrastructure to narrow the gap between rural and urban ar...</td>\n",
       "      <td>2019-03-28 12:41:50.951786</td>\n",
       "      <td>asia</td>\n",
       "      <td>71</td>\n",
       "    </tr>\n",
       "  </tbody>\n",
       "</table>\n",
       "</div>"
      ],
      "text/plain": [
       "                                                                                                                 Title  \\\n",
       "0  Military-backed party 'confident' it can form government, setting stage for standoff in Thailand - Channel NewsAsia   \n",
       "1                                               China slams British warning over Hong Kong freedoms - Channel NewsAsia   \n",
       "2                                                              US-China trade talks open in Beijing - Channel NewsAsia   \n",
       "3                                   Huge growth opportunities for renewable energy sources in ASEAN - Channel NewsAsia   \n",
       "4                                                             Thai elections: Wooing the rural vote - Channel NewsAsia   \n",
       "\n",
       "                                                                                                             PageLink  \\\n",
       "0  https://www.channelnewsasia.com/news/asia/palang-pracharat-confident-it-can-form-government-thai-election-11385792   \n",
       "1              https://www.channelnewsasia.com/news/asia/china-slams-british-warning-over-hong-kong-freedoms-11386838   \n",
       "2                             https://www.channelnewsasia.com/news/asia/us-china-trade-talks-open-in-beijing-11387188   \n",
       "3  https://www.channelnewsasia.com/news/asia/huge-growth-opportunities-for-renewable-energy-sources-in-asean-11382512   \n",
       "4                             https://www.channelnewsasia.com/news/asia/thai-elections-wooing-the-rural-vote-11365840   \n",
       "\n",
       "                                                                                                                                                                                                                                                                                                       Article  \\\n",
       "0  'BANGKOK: The pro-military Palang Pracharat party has claimed the right to form the next Thai government, based on its early lead in the popular vote. Its leader, Uttama Savanayana, said Palang Pracharat was taking its time to form a coalition as there are six weeks until official results are pu...   \n",
       "1  'HONG KONG: China on Wednesday (Mar 27) condemned a British report that expressed concern over eroding freedoms in Hong Kong, accusing the UK of having \"ignored and distorted the truth\" about the city. Former British colony Hong Kong enjoys rights unseen on the Chinese mainland, including freedo...   \n",
       "2  'BEIJING: The United States and China open the latest round of their trade talks Thursday (Mar 28) as the economic superpowers edge towards a deal to resolve a months-long spat that has rattled the global economy. The two-day meetings between US Trade Representative Robert Lighthizer and Treasur...   \n",
       "3  'There are about 70 million people in ASEAN with no reliable access to electricity, says auditing firm KPMG. That and the falling price of renewable energy have created huge growth opportunities for renewable power sources that are better able to reach remote areas. Gwyneth Teo reports.   Copyri...   \n",
       "4  'Voters in Thailand\\'s rural and agricultural heartlands have long proved influential during elections. To woo the rural vote, parties have suggested policies such as giving free education to children of farmers, as well as building new infrastructure to narrow the gap between rural and urban ar...   \n",
       "\n",
       "                         Date Category  article_len  \n",
       "0  2019-03-28 12:41:50.951786     asia          529  \n",
       "1  2019-03-28 12:41:50.951786     asia          375  \n",
       "2  2019-03-28 12:41:50.951786     asia          758  \n",
       "3  2019-03-28 12:41:50.951786     asia           57  \n",
       "4  2019-03-28 12:41:50.951786     asia           71  "
      ]
     },
     "execution_count": 27,
     "metadata": {},
     "output_type": "execute_result"
    }
   ],
   "source": [
    "df.head()"
   ]
  },
  {
   "cell_type": "code",
   "execution_count": 28,
   "metadata": {
    "scrolled": true
   },
   "outputs": [
    {
     "data": {
      "text/plain": [
       "'\\'SINGAPORE: Singapore\\\\\\'s maritime sector is preparing to ride the wave of digitalisation as a means to further growth and navigate choppy waters, industry professionals said on Tuesday (Apr 2). Speaking on the sidelines of a media briefing for the upcoming Singapore Maritime Week 2019, Ms Quah Ley Hoon, the chief executive of Maritime and Port Authority of Singapore (MPA), said that digitalisation is key to developing “a vibrant maritime ecosystem”, using new digital technologies in blockchain and big data. Mr Michael Phoon, executive director of the Singapore Shipping Association (SSA), also said that digitalisation is the way forward, citing the transformation of other industries. “As we grow and as we move towards innovation, we want to put the industry in a digitalisation and technology adoption phase,” said Mr Phoon. Mr Phoon noted the transformation of the telecommunications sector from 4G to 5G networks, and how SMEs in the local shipping sector are already adopting robotic processes in day-to-day operations. Mr Phoon said that going forward, drones could be used to transport small packages such as medicine or documents to and from ships docked in Singapore\\\\\\'s ports. Besides digitalisation and innovation, Ms Quah outlined two other thrusts MPA intends to focus on to build up Singapore’s shipping sector. The first would be to further boost Singapore’s connectivity and interlinkages. “Already we are linked with 600 ports in over 120 countries, but more needs to be done to widen the number and deepen the partnerships,” added Ms Quah. The other thrust would be to improve the local talent pool to “build a future-ready and skilled maritime workforce”. The maritime sector faces several challenges, including an uncertain global economy and potentially additional tit-for-tat tariffs from the US-China trade spat. Another major roadblock to growth would be the onset of tighter regulations. This includes the International Maritime Organisation (IMO) sulphur cap set to be introduced in 2020, as well as greenhouse gas emissions. There are, however, also opportunities for growth, particularly in shipbuilding and repair. “Unlike the aviation industry, ships are not manufactured by two major companies,\" said Mr Phoon. \"They are manufactured by multiple companies, multiple suppliers. From a ship management perspective, managing spare parts is a nightmare. Using technology, supplies can be printed on demand.”  The upcoming Singapore Maritime Week is an annual event that will take place between Apr 6 and 14. More than 40,000 visitors are expected to attend the event. This year’s edition will be grouped into three sections: issues affecting the sector, digitalisation efforts focusing on start-ups, as well as outdoor exhibitions that showcase Singapore’s shipping industry’s history and heritage. It looks like the email address you entered is not valid. Copyright© Mediacorp 2019. Mediacorp Pte Ltd. All rights reserved.\\''"
      ]
     },
     "execution_count": 28,
     "metadata": {},
     "output_type": "execute_result"
    }
   ],
   "source": [
    "(df['Article'][741])"
   ]
  },
  {
   "cell_type": "code",
   "execution_count": 36,
   "metadata": {},
   "outputs": [],
   "source": [
    "# classify"
   ]
  },
  {
   "cell_type": "code",
   "execution_count": 29,
   "metadata": {},
   "outputs": [],
   "source": [
    "X = df['Article']\n",
    "Y = df['Category']\n",
    "\n",
    "vec = TfidfVectorizer(stop_words='english', min_df=20, max_df=0.8, token_pattern=r'(?u)\\b[A-Za-z]+\\b')\n",
    "X = vec.fit_transform(X)"
   ]
  },
  {
   "cell_type": "code",
   "execution_count": 30,
   "metadata": {},
   "outputs": [
    {
     "data": {
      "text/plain": [
       "<1641x2941 sparse matrix of type '<class 'numpy.float64'>'\n",
       "\twith 187895 stored elements in Compressed Sparse Row format>"
      ]
     },
     "execution_count": 30,
     "metadata": {},
     "output_type": "execute_result"
    }
   ],
   "source": [
    "X"
   ]
  },
  {
   "cell_type": "code",
   "execution_count": 31,
   "metadata": {
    "scrolled": true
   },
   "outputs": [],
   "source": [
    "X_sparse = pd.DataFrame(X.toarray(), columns=vec.get_feature_names())"
   ]
  },
  {
   "cell_type": "code",
   "execution_count": 32,
   "metadata": {},
   "outputs": [
    {
     "name": "stdout",
     "output_type": "stream",
     "text": [
      "(1312, 2941)\n",
      "(1312,)\n"
     ]
    }
   ],
   "source": [
    "trainX, testX, trainY, testY = train_test_split(X_sparse, Y, test_size = 0.2, random_state = 55)\n",
    "\n",
    "print(trainX.shape)\n",
    "print(trainY.shape)"
   ]
  },
  {
   "cell_type": "code",
   "execution_count": 33,
   "metadata": {},
   "outputs": [
    {
     "data": {
      "text/plain": [
       "(2941, 2)"
      ]
     },
     "execution_count": 33,
     "metadata": {},
     "output_type": "execute_result"
    }
   ],
   "source": [
    "sum_words = X.sum(axis=0)\n",
    "\n",
    "words_freq = [(word, sum_words[0, idx]) for word, idx in vec.vocabulary_.items()]\n",
    "words_freq = sorted(words_freq, key = lambda x: x[1], reverse=True)\n",
    "\n",
    "tf_freq_df = pd.DataFrame(words_freq, columns=['word', 'tfidf-score'])\n",
    "# wfreq_df = wfreq_df[wfreq_df['count'] < 3000000]\n",
    "tf_freq_df.shape"
   ]
  },
  {
   "cell_type": "code",
   "execution_count": 34,
   "metadata": {},
   "outputs": [
    {
     "data": {
      "image/png": "[encoded data removed]",
      "text/plain": [
       "<Figure size 432x720 with 1 Axes>"
      ]
     },
     "metadata": {
      "needs_background": "light"
     },
     "output_type": "display_data"
    }
   ],
   "source": [
    "fig, ax = plt.subplots(figsize=(6,10))\n",
    "\n",
    "tf_freq_df = tf_freq_df[0:50]\n",
    "sns.barplot(y=tf_freq_df['word'], x=tf_freq_df['tfidf-score'])\n",
    "plt.show()"
   ]
  },
  {
   "cell_type": "code",
   "execution_count": 35,
   "metadata": {},
   "outputs": [],
   "source": [
    "nb_model = MultinomialNB()\n",
    "\n",
    "nb_model.fit(trainX, trainY)\n",
    "labels = nb_model.predict(testX)"
   ]
  },
  {
   "cell_type": "code",
   "execution_count": 36,
   "metadata": {},
   "outputs": [
    {
     "data": {
      "text/plain": [
       "Text(37.32000000000001, 0.5, 'predicted label')"
      ]
     },
     "execution_count": 36,
     "metadata": {},
     "output_type": "execute_result"
    },
    {
     "data": {
      "image/png": "[encoded data removed]",
      "text/plain": [
       "<Figure size 432x432 with 1 Axes>"
      ]
     },
     "metadata": {
      "needs_background": "light"
     },
     "output_type": "display_data"
    }
   ],
   "source": [
    "mat = confusion_matrix(testY, labels)\n",
    "cat = list(trainY.unique())\n",
    "cat.sort()\n",
    "\n",
    "fig, ax = plt.subplots(figsize=(6,6))\n",
    "\n",
    "sns.heatmap(mat.T, square=True, annot=True, fmt='d', cbar=False, cmap='Oranges',\n",
    "            xticklabels=cat, \\\n",
    "            yticklabels=cat, )  # train.target_names\n",
    "\n",
    "plt.xlabel('true label')\n",
    "plt.ylabel('predicted label')"
   ]
  },
  {
   "cell_type": "code",
   "execution_count": 47,
   "metadata": {},
   "outputs": [
    {
     "data": {
      "text/plain": [
       "array([[24,  3,  0,  3,  2,  5],\n",
       "       [ 3, 27,  2,  5,  2,  3],\n",
       "       [ 1,  4, 16,  3,  0,  4],\n",
       "       [ 2,  7,  1, 30,  0,  1],\n",
       "       [ 2,  9,  0,  1, 12,  2],\n",
       "       [ 4,  3,  1,  1,  2, 21]])"
      ]
     },
     "execution_count": 47,
     "metadata": {},
     "output_type": "execute_result"
    }
   ],
   "source": [
    "mat"
   ]
  },
  {
   "cell_type": "code",
   "execution_count": 37,
   "metadata": {},
   "outputs": [
    {
     "data": {
      "text/plain": [
       "asia          64\n",
       "world         61\n",
       "singapore     57\n",
       "business      50\n",
       "technology    49\n",
       "health        48\n",
       "Name: Category, dtype: int64"
      ]
     },
     "execution_count": 37,
     "metadata": {},
     "output_type": "execute_result"
    }
   ],
   "source": [
    "testY.value_counts()"
   ]
  },
  {
   "cell_type": "code",
   "execution_count": 38,
   "metadata": {},
   "outputs": [
    {
     "name": "stdout",
     "output_type": "stream",
     "text": [
      "              precision    recall  f1-score   support\n",
      "\n",
      "        asia       0.62      0.58      0.60        64\n",
      "    business       0.42      0.64      0.51        50\n",
      "      health       0.85      0.69      0.76        48\n",
      "   singapore       0.58      0.79      0.67        57\n",
      "  technology       0.58      0.31      0.40        49\n",
      "       world       0.73      0.61      0.66        61\n",
      "\n",
      "   micro avg       0.60      0.60      0.60       329\n",
      "   macro avg       0.63      0.60      0.60       329\n",
      "weighted avg       0.63      0.60      0.60       329\n",
      "\n"
     ]
    }
   ],
   "source": [
    "print(classification_report(testY, labels))"
   ]
  },
  {
   "cell_type": "code",
   "execution_count": null,
   "metadata": {},
   "outputs": [],
   "source": []
  },
  {
   "cell_type": "code",
   "execution_count": null,
   "metadata": {},
   "outputs": [],
   "source": []
  },
  {
   "cell_type": "code",
   "execution_count": null,
   "metadata": {},
   "outputs": [],
   "source": []
  },
  {
   "cell_type": "code",
   "execution_count": null,
   "metadata": {},
   "outputs": [],
   "source": []
  }
 ],
 "metadata": {
  "kernelspec": {
   "display_name": "Python 3",
   "language": "python",
   "name": "python3"
  },
  "language_info": {
   "codemirror_mode": {
    "name": "ipython",
    "version": 3
   },
   "file_extension": ".py",
   "mimetype": "text/x-python",
   "name": "python",
   "nbconvert_exporter": "python",
   "pygments_lexer": "ipython3",
   "version": "3.7.2"
  }
 },
 "nbformat": 4,
 "nbformat_minor": 2
}
